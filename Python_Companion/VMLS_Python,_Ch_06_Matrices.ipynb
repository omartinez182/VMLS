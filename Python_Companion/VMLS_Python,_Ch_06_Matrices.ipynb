{
  "nbformat": 4,
  "nbformat_minor": 0,
  "metadata": {
    "kernelspec": {
      "display_name": "Python 3",
      "language": "python",
      "name": "python3"
    },
    "language_info": {
      "codemirror_mode": {
        "name": "ipython",
        "version": 3
      },
      "file_extension": ".py",
      "mimetype": "text/x-python",
      "name": "python",
      "nbconvert_exporter": "python",
      "pygments_lexer": "ipython3",
      "version": "3.7.4"
    },
    "colab": {
      "name": "VMLS Python, Ch.06 Matrices.ipynb",
      "provenance": [],
      "collapsed_sections": [
        "Ko1dAcWkdSh0",
        "TbFguEbCdSh2",
        "PxuROTgmdSh2"
      ],
      "include_colab_link": true
    }
  },
  "cells": [
    {
      "cell_type": "markdown",
      "metadata": {
        "id": "view-in-github",
        "colab_type": "text"
      },
      "source": [
        "<a href=\"https://colab.research.google.com/github/omartinez182/VMLS/blob/main/Python_Companion/VMLS_Python%2C_Ch_06_Matrices.ipynb\" target=\"_parent\"><img src=\"https://colab.research.google.com/assets/colab-badge.svg\" alt=\"Open In Colab\"/></a>"
      ]
    },
    {
      "cell_type": "code",
      "metadata": {
        "id": "H9KhQ3THdShb"
      },
      "source": [
        "import numpy as np\n",
        "import numpy.linalg as npl\n",
        "import math\n",
        "import matplotlib.pyplot as plt"
      ],
      "execution_count": 1,
      "outputs": []
    },
    {
      "cell_type": "markdown",
      "metadata": {
        "id": "JGwXOPYvdShe"
      },
      "source": [
        "# 6.1 Matrices"
      ]
    },
    {
      "cell_type": "code",
      "metadata": {
        "scrolled": true,
        "id": "YK8r2iR7dShg",
        "colab": {
          "base_uri": "https://localhost:8080/"
        },
        "outputId": "449d1554-a7ee-4c1c-8cd3-da7657e8bc21"
      },
      "source": [
        "A = np.matrix([[0.0, 1.0, -2.3, 0.1], [1.3, 4.0, -0.1, 0.0],[4.1,-1.0, 0.0, 1.7]])\n",
        "B = np.matrix([[0.0, 1.0], [1.3, 4.0],[4.1,-1.0]])\n",
        "\n",
        "A #in Julia you ommit the multiple array brackets and commas, \n",
        "  #and use semi colons to break rows"
      ],
      "execution_count": 23,
      "outputs": [
        {
          "output_type": "execute_result",
          "data": {
            "text/plain": [
              "matrix([[ 0. ,  1. , -2.3,  0.1],\n",
              "        [ 1.3,  4. , -0.1,  0. ],\n",
              "        [ 4.1, -1. ,  0. ,  1.7]])"
            ]
          },
          "metadata": {},
          "execution_count": 23
        }
      ]
    },
    {
      "cell_type": "code",
      "metadata": {
        "id": "7fMgyln0dShh",
        "colab": {
          "base_uri": "https://localhost:8080/"
        },
        "outputId": "538b337d-7530-4276-cfdd-d93f899a4c12"
      },
      "source": [
        "m,n = np.shape(A) #J: m,n = size(A)\n",
        "m,n, np.shape(A)[0],np.shape(A)[1] #J: size(A,1)"
      ],
      "execution_count": 24,
      "outputs": [
        {
          "output_type": "execute_result",
          "data": {
            "text/plain": [
              "(3, 4, 3, 4)"
            ]
          },
          "metadata": {},
          "execution_count": 24
        }
      ]
    },
    {
      "cell_type": "code",
      "metadata": {
        "id": "UaIaa1SfdShi",
        "colab": {
          "base_uri": "https://localhost:8080/"
        },
        "outputId": "4d531184-b8c9-49f5-84e4-76c46f087d03"
      },
      "source": [
        "isTall = lambda x: np.shape(x)[0] > np.shape(x)[1] #J: size(X,1)>size(X,2)\n",
        "isTall(A), isTall(B)"
      ],
      "execution_count": 25,
      "outputs": [
        {
          "output_type": "execute_result",
          "data": {
            "text/plain": [
              "(False, True)"
            ]
          },
          "metadata": {},
          "execution_count": 25
        }
      ]
    },
    {
      "cell_type": "code",
      "metadata": {
        "id": "ceds_SoodShj",
        "colab": {
          "base_uri": "https://localhost:8080/"
        },
        "outputId": "9693c2f6-00d5-491c-8c55-0278082910e6"
      },
      "source": [
        "A[1,2], A[0,2], A[2,1] #Coordinates can be interpreted as y,x\n",
        "                       #or list index, item index"
      ],
      "execution_count": 26,
      "outputs": [
        {
          "output_type": "execute_result",
          "data": {
            "text/plain": [
              "(-0.1, -2.3, -1.0)"
            ]
          },
          "metadata": {},
          "execution_count": 26
        }
      ]
    },
    {
      "cell_type": "code",
      "metadata": {
        "id": "wuBWaMEUdShk",
        "colab": {
          "base_uri": "https://localhost:8080/"
        },
        "outputId": "22cd66c3-655c-484c-9548-7e3aac8b7982"
      },
      "source": [
        "Z = np.matrix([[-1,0,2],[-1,2,-3]])\n",
        "Z[1,1] #J: Z[5]"
      ],
      "execution_count": 27,
      "outputs": [
        {
          "output_type": "execute_result",
          "data": {
            "text/plain": [
              "2"
            ]
          },
          "metadata": {},
          "execution_count": 27
        }
      ]
    },
    {
      "cell_type": "code",
      "metadata": {
        "id": "245tqpxAdShl",
        "colab": {
          "base_uri": "https://localhost:8080/"
        },
        "outputId": "ee99f2bb-5bcb-41ff-8018-676a51e85067"
      },
      "source": [
        "B = A.copy()\n",
        "B[1,1] = 0\n",
        "np.array_equal(A,B), A==B #J: second eval would get first result , second result done with .="
      ],
      "execution_count": 28,
      "outputs": [
        {
          "output_type": "execute_result",
          "data": {
            "text/plain": [
              "(False, matrix([[ True,  True,  True,  True],\n",
              "         [ True, False,  True,  True],\n",
              "         [ True,  True,  True,  True]]))"
            ]
          },
          "metadata": {},
          "execution_count": 28
        }
      ]
    },
    {
      "cell_type": "code",
      "metadata": {
        "id": "32HiWI-udShm",
        "colab": {
          "base_uri": "https://localhost:8080/"
        },
        "outputId": "77eb859d-009f-4d5a-b6e0-453e98379af7"
      },
      "source": [
        "np.sum(A==B), sum(A==B)"
      ],
      "execution_count": 32,
      "outputs": [
        {
          "output_type": "execute_result",
          "data": {
            "text/plain": [
              "(11, matrix([[3, 2, 3, 3]]))"
            ]
          },
          "metadata": {},
          "execution_count": 32
        }
      ]
    },
    {
      "cell_type": "code",
      "metadata": {
        "id": "F7U2fjWydShn",
        "colab": {
          "base_uri": "https://localhost:8080/"
        },
        "outputId": "899dce7d-6fd7-419f-b989-457567771b71"
      },
      "source": [
        "a = np.matrix([-2.1, -3, 0])\n",
        "b = np.array([-2.1, -3, 0])\n",
        "a,b"
      ],
      "execution_count": 33,
      "outputs": [
        {
          "output_type": "execute_result",
          "data": {
            "text/plain": [
              "(matrix([[-2.1, -3. ,  0. ]]), array([-2.1, -3. ,  0. ]))"
            ]
          },
          "metadata": {},
          "execution_count": 33
        }
      ]
    },
    {
      "cell_type": "code",
      "metadata": {
        "id": "gi3iUboTdShn",
        "colab": {
          "base_uri": "https://localhost:8080/"
        },
        "outputId": "301db65d-2bd0-4805-ef6f-c7c8addac12b"
      },
      "source": [
        "A = np.matrix([[-1, 0, 1, 0], [2,-3,0,1],[0,4,-2,1]])\n",
        "A"
      ],
      "execution_count": 34,
      "outputs": [
        {
          "output_type": "execute_result",
          "data": {
            "text/plain": [
              "matrix([[-1,  0,  1,  0],\n",
              "        [ 2, -3,  0,  1],\n",
              "        [ 0,  4, -2,  1]])"
            ]
          },
          "metadata": {},
          "execution_count": 34
        }
      ]
    },
    {
      "cell_type": "code",
      "metadata": {
        "id": "z4a1YKF_dSho",
        "colab": {
          "base_uri": "https://localhost:8080/"
        },
        "outputId": "88d7072d-f347-4ae3-e987-84f7e38eb924"
      },
      "source": [
        "A[0:2,2:4] \n",
        "\n",
        "#in J: [1:2,3:4]\n",
        "#difference because 1) 0 indexing vs 1 indexing\n",
        "#                   2) slice value exclusive vs inclusive\n",
        "#                   ie: [0:2] in python says lists 0 and 1\n",
        "#                       [1:2] in julia says lists 1 and 2               "
      ],
      "execution_count": 35,
      "outputs": [
        {
          "output_type": "execute_result",
          "data": {
            "text/plain": [
              "matrix([[1, 0],\n",
              "        [0, 1]])"
            ]
          },
          "metadata": {},
          "execution_count": 35
        }
      ]
    },
    {
      "cell_type": "code",
      "metadata": {
        "id": "yIBTYOvxdShr",
        "colab": {
          "base_uri": "https://localhost:8080/"
        },
        "outputId": "419d8c1d-36c2-4fb5-bc31-2c74cc9adbc4"
      },
      "source": [
        "A[:,2] #J: [:,3]"
      ],
      "execution_count": 36,
      "outputs": [
        {
          "output_type": "execute_result",
          "data": {
            "text/plain": [
              "matrix([[ 1],\n",
              "        [ 0],\n",
              "        [-2]])"
            ]
          },
          "metadata": {},
          "execution_count": 36
        }
      ]
    },
    {
      "cell_type": "code",
      "metadata": {
        "id": "Ug0WlctPdShr",
        "colab": {
          "base_uri": "https://localhost:8080/"
        },
        "outputId": "edda3232-bdea-4c83-b12b-193f7806f952"
      },
      "source": [
        "np.vstack(A[1,:]),A[1,:]\n",
        "#J: this *row* will automatically get returned as a *col* (???)"
      ],
      "execution_count": 37,
      "outputs": [
        {
          "output_type": "execute_result",
          "data": {
            "text/plain": [
              "(matrix([[ 2, -3,  0,  1]]), matrix([[ 2, -3,  0,  1]]))"
            ]
          },
          "metadata": {},
          "execution_count": 37
        }
      ]
    },
    {
      "cell_type": "code",
      "metadata": {
        "id": "DiJDFaUGdShs",
        "colab": {
          "base_uri": "https://localhost:8080/"
        },
        "outputId": "ecd64667-402f-435a-a0b2-bee773977cd4"
      },
      "source": [
        "m = np.shape(A)[0]\n",
        "A[::-1] #J: [m:-1:1,:]"
      ],
      "execution_count": 38,
      "outputs": [
        {
          "output_type": "execute_result",
          "data": {
            "text/plain": [
              "matrix([[ 0,  4, -2,  1],\n",
              "        [ 2, -3,  0,  1],\n",
              "        [-1,  0,  1,  0]])"
            ]
          },
          "metadata": {},
          "execution_count": 38
        }
      ]
    },
    {
      "cell_type": "code",
      "metadata": {
        "id": "Knv2NDKAdShs",
        "colab": {
          "base_uri": "https://localhost:8080/"
        },
        "outputId": "f0eedf9f-6576-428e-be98-02f38e57a426"
      },
      "source": [
        "B = np.matrix([[1,-3],[2,0],[1,-2]])\n",
        "B"
      ],
      "execution_count": 39,
      "outputs": [
        {
          "output_type": "execute_result",
          "data": {
            "text/plain": [
              "matrix([[ 1, -3],\n",
              "        [ 2,  0],\n",
              "        [ 1, -2]])"
            ]
          },
          "metadata": {},
          "execution_count": 39
        }
      ]
    },
    {
      "cell_type": "code",
      "metadata": {
        "id": "XTfzJzKOdShs",
        "colab": {
          "base_uri": "https://localhost:8080/"
        },
        "outputId": "096ffcc4-bc5f-436e-92b7-a10c38f58694"
      },
      "source": [
        "np.vstack(B.flatten())\n",
        "# J: B[:]\n",
        "#can also use: np.matrix(B.A1).transpose(), B.ravel().transpose()"
      ],
      "execution_count": 42,
      "outputs": [
        {
          "output_type": "execute_result",
          "data": {
            "text/plain": [
              "matrix([[ 1, -3,  2,  0,  1, -2]])"
            ]
          },
          "metadata": {},
          "execution_count": 42
        }
      ]
    },
    {
      "cell_type": "code",
      "metadata": {
        "id": "Be_WUd27dSht",
        "colab": {
          "base_uri": "https://localhost:8080/"
        },
        "outputId": "32e801ec-ff69-4c8f-fafe-51c79fbafe6e"
      },
      "source": [
        "np.reshape(B,(2,3))\n",
        "# Here numpy reads the matrix from left to right as it originally was\n",
        "# and writes them row wise\n",
        "# In Julia (2,3) reads the first values in each list, and writes them\n",
        "# column wise:\n",
        "# 1 1 0\n",
        "# 2 -3 -2"
      ],
      "execution_count": 43,
      "outputs": [
        {
          "output_type": "execute_result",
          "data": {
            "text/plain": [
              "matrix([[ 1, -3,  2],\n",
              "        [ 0,  1, -2]])"
            ]
          },
          "metadata": {},
          "execution_count": 43
        }
      ]
    },
    {
      "cell_type": "code",
      "metadata": {
        "id": "Dk6YDqNadSht",
        "colab": {
          "base_uri": "https://localhost:8080/"
        },
        "outputId": "20f0525d-3568-4f0f-81b9-ed21161499a3"
      },
      "source": [
        "B = np.matrix([0,2,3])\n",
        "C = np.matrix([-1])\n",
        "D = np.matrix([[2,2,1],[1,3,5]])\n",
        "E = np.matrix([[4],[4]])\n",
        "A = np.block([[B,C],[D,E]]) #J: A = [B C; D E]\n",
        "A"
      ],
      "execution_count": 44,
      "outputs": [
        {
          "output_type": "execute_result",
          "data": {
            "text/plain": [
              "matrix([[ 0,  2,  3, -1],\n",
              "        [ 2,  2,  1,  4],\n",
              "        [ 1,  3,  5,  4]])"
            ]
          },
          "metadata": {},
          "execution_count": 44
        }
      ]
    },
    {
      "cell_type": "code",
      "metadata": {
        "id": "FCzVCvNudSht",
        "colab": {
          "base_uri": "https://localhost:8080/"
        },
        "outputId": "bff018f8-6eb8-444d-8ce2-32dab8aa5b39"
      },
      "source": [
        "a = np.array([[1.,2.],[4.,5.],[7.,8.]])\n",
        "a"
      ],
      "execution_count": 54,
      "outputs": [
        {
          "output_type": "execute_result",
          "data": {
            "text/plain": [
              "array([[1., 2.],\n",
              "       [4., 5.],\n",
              "       [7., 8.]])"
            ]
          },
          "metadata": {},
          "execution_count": 54
        }
      ]
    },
    {
      "cell_type": "code",
      "metadata": {
        "id": "dqnG8XH1dSht",
        "colab": {
          "base_uri": "https://localhost:8080/"
        },
        "outputId": "50e3958c-27ef-4499-b318-76c3fb7702de"
      },
      "source": [
        "A = np.stack(a,-1) #J: A = hcat(a...)\n",
        "A"
      ],
      "execution_count": 56,
      "outputs": [
        {
          "output_type": "execute_result",
          "data": {
            "text/plain": [
              "array([[1., 4., 7.],\n",
              "       [2., 5., 8.]])"
            ]
          },
          "metadata": {},
          "execution_count": 56
        }
      ]
    },
    {
      "cell_type": "code",
      "metadata": {
        "id": "4n7s6fZ2dShu",
        "colab": {
          "base_uri": "https://localhost:8080/"
        },
        "outputId": "ec368d85-6b94-4492-c7bd-0ec006e4e743"
      },
      "source": [
        "A = np.stack(a,1) #J: A = vcat(a...)\n",
        "a"
      ],
      "execution_count": 55,
      "outputs": [
        {
          "output_type": "execute_result",
          "data": {
            "text/plain": [
              "array([[1., 2.],\n",
              "       [4., 5.],\n",
              "       [7., 8.]])"
            ]
          },
          "metadata": {},
          "execution_count": 55
        }
      ]
    },
    {
      "cell_type": "code",
      "metadata": {
        "id": "3L4Z4427dShu",
        "colab": {
          "base_uri": "https://localhost:8080/",
          "height": 248
        },
        "outputId": "b3ce5fa1-03c3-4b66-ad24-d80cfe2dbe4c"
      },
      "source": [
        "#detour from companion to sketch adjacency matrix example from p112 of VMLS\n",
        "import networkx as nx\n",
        "pg112 = np.matrix([[0,1,1,0],[1,0,0,1],[0,0,0,1],[1,0,0,0]])\n",
        "G = nx.from_numpy_matrix(pg112)\n",
        "pos = nx.layout.spring_layout(G)\n",
        "node_sizes = [3 + 10 * i for i in range(len(G))]\n",
        "M = G.number_of_edges()\n",
        "edge_colors = range(2, M + 2)\n",
        "edge_alphas = [(5 + i) / (M + 4) for i in range(M)]\n",
        "\n",
        "nodes = nx.draw_networkx_nodes(G, pos, node_size=node_sizes, node_color='blue')\n",
        "edges = nx.draw_networkx_edges(G, pos, node_size=node_sizes, arrowstyle='->',\n",
        "                               arrowsize=10, edge_color=edge_colors,\n",
        "                               edge_cmap=plt.cm.Blues, width=2)\n",
        "\n",
        "ax = plt.gca()\n",
        "ax.set_axis_off()\n",
        "plt.show()"
      ],
      "execution_count": 58,
      "outputs": [
        {
          "output_type": "display_data",
          "data": {
            "image/png": "[encoded data removed]",
            "text/plain": [
              "<Figure size 432x288 with 1 Axes>"
            ]
          },
          "metadata": {}
        }
      ]
    },
    {
      "cell_type": "markdown",
      "metadata": {
        "id": "gMnTJrTHdShu"
      },
      "source": [
        "# 6.2 Zero and Identity Matrices"
      ]
    },
    {
      "cell_type": "code",
      "metadata": {
        "id": "B5EvbR92dShv",
        "colab": {
          "base_uri": "https://localhost:8080/"
        },
        "outputId": "0059de04-f131-42c3-a8d4-04fa662d5f9f"
      },
      "source": [
        "np.zeros((2,2)) #J: zeros(2,2)"
      ],
      "execution_count": 59,
      "outputs": [
        {
          "output_type": "execute_result",
          "data": {
            "text/plain": [
              "array([[0., 0.],\n",
              "       [0., 0.]])"
            ]
          },
          "metadata": {},
          "execution_count": 59
        }
      ]
    },
    {
      "cell_type": "code",
      "metadata": {
        "id": "9f52slA0dShv",
        "colab": {
          "base_uri": "https://localhost:8080/"
        },
        "outputId": "d90247cc-831a-4616-f586-dd364ba3dd96"
      },
      "source": [
        "A = np.identity(4)\n",
        "A"
      ],
      "execution_count": 60,
      "outputs": [
        {
          "output_type": "execute_result",
          "data": {
            "text/plain": [
              "array([[1., 0., 0., 0.],\n",
              "       [0., 1., 0., 0.],\n",
              "       [0., 0., 1., 0.],\n",
              "       [0., 0., 0., 1.]])"
            ]
          },
          "metadata": {},
          "execution_count": 60
        }
      ]
    },
    {
      "cell_type": "code",
      "metadata": {
        "id": "vuuMiNCkdShv",
        "colab": {
          "base_uri": "https://localhost:8080/"
        },
        "outputId": "ea01673b-7d4d-4df2-c2d9-df52fc1e2694"
      },
      "source": [
        "A = np.array([[1,-1,2],[0,3,-1]])\n",
        "np.hstack([A, np.identity(np.shape(A)[0])]) #J: [A I]"
      ],
      "execution_count": 72,
      "outputs": [
        {
          "output_type": "execute_result",
          "data": {
            "text/plain": [
              "array([[ 1., -1.,  2.,  1.,  0.],\n",
              "       [ 0.,  3., -1.,  0.,  1.]])"
            ]
          },
          "metadata": {},
          "execution_count": 72
        }
      ]
    },
    {
      "cell_type": "code",
      "metadata": {
        "colab": {
          "base_uri": "https://localhost:8080/"
        },
        "id": "9lGqdaeIq7tN",
        "outputId": "0c421e88-9b36-41a6-dadd-e64a9156ea92"
      },
      "source": [
        "A = np.array([[1,-1,2],[0,3,-1]])\n",
        "np.vstack([A, np.identity(np.shape(A)[1])]) #J: [A I]"
      ],
      "execution_count": 73,
      "outputs": [
        {
          "output_type": "execute_result",
          "data": {
            "text/plain": [
              "array([[ 1., -1.,  2.],\n",
              "       [ 0.,  3., -1.],\n",
              "       [ 1.,  0.,  0.],\n",
              "       [ 0.,  1.,  0.],\n",
              "       [ 0.,  0.,  1.]])"
            ]
          },
          "metadata": {},
          "execution_count": 73
        }
      ]
    },
    {
      "cell_type": "code",
      "metadata": {
        "id": "-ewbKsYDdShw",
        "colab": {
          "base_uri": "https://localhost:8080/"
        },
        "outputId": "81bf78ca-861f-4e8f-ce31-76fbe61954f6"
      },
      "source": [
        "B = np.array([[1,2],[3,4]])\n",
        "B+np.identity(np.shape(B)[0]) #J: B+I"
      ],
      "execution_count": 74,
      "outputs": [
        {
          "output_type": "execute_result",
          "data": {
            "text/plain": [
              "array([[2., 2.],\n",
              "       [3., 5.]])"
            ]
          },
          "metadata": {},
          "execution_count": 74
        }
      ]
    },
    {
      "cell_type": "code",
      "metadata": {
        "id": "HfGCYgVydShw",
        "colab": {
          "base_uri": "https://localhost:8080/"
        },
        "outputId": "3faa7281-f8f3-4854-f3dd-9dd878e3d48f"
      },
      "source": [
        "np.diag([1,2,3]) #J: diagm(0=>x)"
      ],
      "execution_count": 75,
      "outputs": [
        {
          "output_type": "execute_result",
          "data": {
            "text/plain": [
              "array([[1, 0, 0],\n",
              "       [0, 2, 0],\n",
              "       [0, 0, 3]])"
            ]
          },
          "metadata": {},
          "execution_count": 75
        }
      ]
    },
    {
      "cell_type": "code",
      "metadata": {
        "id": "xtP51eqxdShw",
        "colab": {
          "base_uri": "https://localhost:8080/"
        },
        "outputId": "66ab2678-e55c-4755-bb59-2b042dcb0560"
      },
      "source": [
        "H = np.matrix([[0,1,-2,1],[2,-1,3,0]])\n",
        "H\n",
        "np.vstack(np.diag(H)) #J: diag(H)"
      ],
      "execution_count": 80,
      "outputs": [
        {
          "output_type": "execute_result",
          "data": {
            "text/plain": [
              "array([[ 0],\n",
              "       [-1]])"
            ]
          },
          "metadata": {},
          "execution_count": 80
        }
      ]
    },
    {
      "cell_type": "code",
      "metadata": {
        "id": "ChOZ4abEdShw",
        "outputId": "f9c7c146-87d1-41ff-dc9f-9581878b42dd"
      },
      "source": [
        "np.random.rand(2,3), np.random.randn(3,2) #J: rand(2,3), randn(3,2)"
      ],
      "execution_count": null,
      "outputs": [
        {
          "data": {
            "text/plain": [
              "(array([[0.71192781, 0.47114325, 0.43761741],\n",
              "        [0.46379698, 0.02508166, 0.94181704]]),\n",
              " array([[ 0.66952997, -0.4726436 ],\n",
              "        [ 0.32564393,  0.05696981],\n",
              "        [ 0.99898489, -2.77258862]]))"
            ]
          },
          "execution_count": 33,
          "metadata": {},
          "output_type": "execute_result"
        }
      ]
    },
    {
      "cell_type": "code",
      "metadata": {
        "id": "tJ_eei7vdShw"
      },
      "source": [
        "I = np.array([1,2,2,1,3,4]) #rows\n",
        "J = np.array([1,1,2,3,3,4]) #cols\n",
        "V = np.array([-1.11,.15,-.1, 1.17, -.3,.13]) #data"
      ],
      "execution_count": 81,
      "outputs": []
    },
    {
      "cell_type": "code",
      "metadata": {
        "id": "gNDWca20dShw",
        "colab": {
          "base_uri": "https://localhost:8080/"
        },
        "outputId": "953a3cd8-f913-4642-cbe0-e034207c4eaf"
      },
      "source": [
        "from scipy.sparse import csc_matrix, rand, find\n",
        "csc_matrix([I,J,V]).toarray().transpose() #J: A = sparse(I,J,V,4,5)"
      ],
      "execution_count": 82,
      "outputs": [
        {
          "output_type": "execute_result",
          "data": {
            "text/plain": [
              "array([[ 1.  ,  1.  , -1.11],\n",
              "       [ 2.  ,  1.  ,  0.15],\n",
              "       [ 2.  ,  2.  , -0.1 ],\n",
              "       [ 1.  ,  3.  ,  1.17],\n",
              "       [ 3.  ,  3.  , -0.3 ],\n",
              "       [ 4.  ,  4.  ,  0.13]])"
            ]
          },
          "metadata": {},
          "execution_count": 82
        }
      ]
    },
    {
      "cell_type": "code",
      "metadata": {
        "id": "y_Lc9visdShx",
        "colab": {
          "base_uri": "https://localhost:8080/"
        },
        "outputId": "56fb47bf-fcb7-4c3f-fe8f-dd9de03b7ab1"
      },
      "source": [
        "A = csc_matrix([[1,3,2,1],[1,1,2,3],[1.0,2.0,3.0,4.0]]).transpose()\n",
        "A.toarray(), np.count_nonzero(A.toarray())"
      ],
      "execution_count": 83,
      "outputs": [
        {
          "output_type": "execute_result",
          "data": {
            "text/plain": [
              "(array([[1., 1., 1.],\n",
              "        [3., 1., 2.],\n",
              "        [2., 2., 3.],\n",
              "        [1., 3., 4.]]), 12)"
            ]
          },
          "metadata": {},
          "execution_count": 83
        }
      ]
    },
    {
      "cell_type": "code",
      "metadata": {
        "id": "mzj4aJOrdShx"
      },
      "source": [
        "#Not sure what's going on on page 53 final example of returning a 3x3 non-sparse matrix \n",
        "#looks like it takes the 4x1 RHS of the sparse matrix and shapes it into a 3x3"
      ],
      "execution_count": null,
      "outputs": []
    },
    {
      "cell_type": "code",
      "metadata": {
        "id": "t-cVApt4dShx",
        "colab": {
          "base_uri": "https://localhost:8080/"
        },
        "outputId": "268e5e93-55f9-4f69-9e5c-4c9fc6af89cb"
      },
      "source": [
        "A = rand(10000,10000,density=10**-7, format='csc')\n",
        "A.nnz"
      ],
      "execution_count": 84,
      "outputs": [
        {
          "output_type": "execute_result",
          "data": {
            "text/plain": [
              "10"
            ]
          },
          "metadata": {},
          "execution_count": 84
        }
      ]
    },
    {
      "cell_type": "code",
      "metadata": {
        "id": "tvexbfh1dShx",
        "colab": {
          "base_uri": "https://localhost:8080/"
        },
        "outputId": "600e1e41-d17c-45be-d11c-f7994dc57fcf"
      },
      "source": [
        "find(A)"
      ],
      "execution_count": 85,
      "outputs": [
        {
          "output_type": "execute_result",
          "data": {
            "text/plain": [
              "(array([4272, 9350, 2550, 9916, 8964, 7416, 7457, 6296, 4601, 1479],\n",
              "       dtype=int32),\n",
              " array([1659, 2155, 5154, 5854, 6657, 7618, 8081, 9100, 9109, 9782],\n",
              "       dtype=int32),\n",
              " array([0.48155771, 0.73774417, 0.31228075, 0.27250401, 0.94473463,\n",
              "        0.01575255, 0.94700169, 0.16978474, 0.91102059, 0.10293792]))"
            ]
          },
          "metadata": {},
          "execution_count": 85
        }
      ]
    },
    {
      "cell_type": "markdown",
      "metadata": {
        "id": "F-_tL98QdShy"
      },
      "source": [
        "# 6.3 Transpose, Addition, Norm"
      ]
    },
    {
      "cell_type": "code",
      "metadata": {
        "id": "U3OHQlb3dShy",
        "colab": {
          "base_uri": "https://localhost:8080/"
        },
        "outputId": "3bbed3e2-26aa-4263-8fd0-72eea22d2d84"
      },
      "source": [
        "H = np.array([[0,1,-2,1],[2,-1,3,0]])\n",
        "H"
      ],
      "execution_count": 88,
      "outputs": [
        {
          "output_type": "execute_result",
          "data": {
            "text/plain": [
              "array([[ 0,  1, -2,  1],\n",
              "       [ 2, -1,  3,  0]])"
            ]
          },
          "metadata": {},
          "execution_count": 88
        }
      ]
    },
    {
      "cell_type": "code",
      "metadata": {
        "id": "TpNE7D1-dShy",
        "colab": {
          "base_uri": "https://localhost:8080/"
        },
        "outputId": "b0146760-2468-4b6f-8123-7f9b18659a15"
      },
      "source": [
        "H.transpose() #J : H'"
      ],
      "execution_count": 89,
      "outputs": [
        {
          "output_type": "execute_result",
          "data": {
            "text/plain": [
              "array([[ 0,  2],\n",
              "       [ 1, -1],\n",
              "       [-2,  3],\n",
              "       [ 1,  0]])"
            ]
          },
          "metadata": {},
          "execution_count": 89
        }
      ]
    },
    {
      "cell_type": "code",
      "metadata": {
        "id": "dZ3gQOzodShz",
        "colab": {
          "base_uri": "https://localhost:8080/"
        },
        "outputId": "a49d7103-49ab-4d3c-fb19-ca178faa65a9"
      },
      "source": [
        "U,V = np.array([[0,4],[7,0],[3,1]]),np.array([[1,2],[2,3],[0,4]])\n",
        "U, V"
      ],
      "execution_count": 90,
      "outputs": [
        {
          "output_type": "execute_result",
          "data": {
            "text/plain": [
              "(array([[0, 4],\n",
              "        [7, 0],\n",
              "        [3, 1]]), array([[1, 2],\n",
              "        [2, 3],\n",
              "        [0, 4]]))"
            ]
          },
          "metadata": {},
          "execution_count": 90
        }
      ]
    },
    {
      "cell_type": "code",
      "metadata": {
        "id": "-dlsyyeAdShz",
        "colab": {
          "base_uri": "https://localhost:8080/"
        },
        "outputId": "96744f71-5c61-4c68-c319-a69ca07d4db4"
      },
      "source": [
        "U+V, 2.2*U "
      ],
      "execution_count": 91,
      "outputs": [
        {
          "output_type": "execute_result",
          "data": {
            "text/plain": [
              "(array([[1, 6],\n",
              "        [9, 3],\n",
              "        [3, 5]]), array([[ 0. ,  8.8],\n",
              "        [15.4,  0. ],\n",
              "        [ 6.6,  2.2]]))"
            ]
          },
          "metadata": {},
          "execution_count": 91
        }
      ]
    },
    {
      "cell_type": "code",
      "metadata": {
        "id": "CUj5xhWFdShz",
        "colab": {
          "base_uri": "https://localhost:8080/"
        },
        "outputId": "df343df4-e14f-46f2-b44d-6296da7c35e9"
      },
      "source": [
        "#matrix norms\n",
        "A = np.array([[2,3,-1],[0,-1,4]])\n",
        "npl.norm(A), npl.norm(A[:])"
      ],
      "execution_count": 92,
      "outputs": [
        {
          "output_type": "execute_result",
          "data": {
            "text/plain": [
              "(5.5677643628300215, 5.5677643628300215)"
            ]
          },
          "metadata": {},
          "execution_count": 92
        }
      ]
    },
    {
      "cell_type": "code",
      "metadata": {
        "id": "BmotJ6ycdShz",
        "colab": {
          "base_uri": "https://localhost:8080/"
        },
        "outputId": "0d3033fe-3e4f-450f-8211-869fd34346a3"
      },
      "source": [
        "#triangle inequality\n",
        "A,B = np.array([[-1,0],[2,2]]),np.array([[3,1],[-3,2]])\n",
        "print(npl.norm(A+B), npl.norm(A)+npl.norm(B))\n",
        "npl.norm(A+B) <= npl.norm(A)+npl.norm(B)"
      ],
      "execution_count": 96,
      "outputs": [
        {
          "output_type": "stream",
          "name": "stdout",
          "text": [
            "4.69041575982343 7.795831523312719\n"
          ]
        },
        {
          "output_type": "execute_result",
          "data": {
            "text/plain": [
              "True"
            ]
          },
          "metadata": {},
          "execution_count": 96
        }
      ]
    },
    {
      "cell_type": "markdown",
      "metadata": {
        "id": "Ko1dAcWkdSh0"
      },
      "source": [
        "# 6.4 Matrix-Vector Multiplication"
      ]
    },
    {
      "cell_type": "code",
      "metadata": {
        "id": "WSt7TJJydSh0",
        "outputId": "99b76405-a5f3-438d-ef07-4bdaff0e5ade"
      },
      "source": [
        "A,x = np.array([[0,2,-1],[-2,1,1]]), np.array([2,1,-1])\n",
        "np.matmul(A,x) #J: A*x, which in python returns a 2x3 with A values multiplied by x values"
      ],
      "execution_count": null,
      "outputs": [
        {
          "data": {
            "text/plain": [
              "array([ 3, -4])"
            ]
          },
          "execution_count": 90,
          "metadata": {},
          "output_type": "execute_result"
        }
      ]
    },
    {
      "cell_type": "code",
      "metadata": {
        "id": "yk38nxHXdSh0",
        "outputId": "ab19d82e-c432-4f96-9c74-aea434d2e684"
      },
      "source": [
        "#c_ is an np method for adding a column. \n",
        "#J equiv: [-eye zeros] automatically adds column wise\n",
        "difference_matrix = lambda n: np.c_[-np.identity(n-1), np.zeros(n-1)] + np.c_[np.zeros(n-1), np.eye(n-1)] \n",
        "D = difference_matrix(4)\n",
        "D"
      ],
      "execution_count": null,
      "outputs": [
        {
          "data": {
            "text/plain": [
              "array([[-1.,  1.,  0.,  0.],\n",
              "       [ 0., -1.,  1.,  0.],\n",
              "       [ 0.,  0., -1.,  1.]])"
            ]
          },
          "execution_count": 137,
          "metadata": {},
          "output_type": "execute_result"
        }
      ]
    },
    {
      "cell_type": "code",
      "metadata": {
        "id": "_OLkbPaHdSh0",
        "outputId": "bf0487b0-fc12-4223-c31c-b7712463edea"
      },
      "source": [
        "np.matmul(D,np.array([-1,0,2,1]))"
      ],
      "execution_count": null,
      "outputs": [
        {
          "data": {
            "text/plain": [
              "array([ 1.,  2., -1.])"
            ]
          },
          "execution_count": 144,
          "metadata": {},
          "output_type": "execute_result"
        }
      ]
    },
    {
      "cell_type": "code",
      "metadata": {
        "id": "n5s8pfWKdSh0",
        "outputId": "d2981b61-7bf8-480f-b840-c09757b1a08d"
      },
      "source": [
        "#don't know what the sparse identity matrix is doing on 57"
      ],
      "execution_count": null,
      "outputs": [
        {
          "data": {
            "text/plain": [
              "array([[1., 0., 0.],\n",
              "       [0., 1., 0.],\n",
              "       [0., 0., 1.]])"
            ]
          },
          "execution_count": 148,
          "metadata": {},
          "output_type": "execute_result"
        }
      ]
    },
    {
      "cell_type": "code",
      "metadata": {
        "id": "tAE4PzxddSh1"
      },
      "source": [
        "#running sum\n",
        "def running_sum(n):\n",
        "    S = np.zeros((n,n))\n",
        "    for i in range(n):\n",
        "        for j in range(i+1): #0 indexing fix to get diags = 1\n",
        "            S[i,j] = 1\n",
        "            \n",
        "    return S"
      ],
      "execution_count": null,
      "outputs": []
    },
    {
      "cell_type": "code",
      "metadata": {
        "id": "U-s6r0HsdSh1",
        "outputId": "475f5cc7-ec94-40e4-bcc1-6fdfb9fafdb4"
      },
      "source": [
        "running_sum(4),np.matmul(running_sum(4),np.array([-1,1,2,0]))"
      ],
      "execution_count": null,
      "outputs": [
        {
          "data": {
            "text/plain": [
              "(array([[1., 0., 0., 0.],\n",
              "        [1., 1., 0., 0.],\n",
              "        [1., 1., 1., 0.],\n",
              "        [1., 1., 1., 1.]]), array([-1.,  0.,  2.,  2.]))"
            ]
          },
          "execution_count": 197,
          "metadata": {},
          "output_type": "execute_result"
        }
      ]
    },
    {
      "cell_type": "code",
      "metadata": {
        "id": "bJyyrsWxdSh1",
        "outputId": "a6fea6d8-aec0-437d-f85f-ab670242f872"
      },
      "source": [
        "#tril implementation #J: tril(ones(n,n))\n",
        "#also running sum test\n",
        "sum_test_list = np.tril(np.ones((4,4)))\n",
        "np.tril(np.ones((4,4))), [np.sum(i) for i in sum_test_list]"
      ],
      "execution_count": null,
      "outputs": [
        {
          "data": {
            "text/plain": [
              "(array([[1., 0., 0., 0.],\n",
              "        [1., 1., 0., 0.],\n",
              "        [1., 1., 1., 0.],\n",
              "        [1., 1., 1., 1.]]), [1.0, 2.0, 3.0, 4.0])"
            ]
          },
          "execution_count": 202,
          "metadata": {},
          "output_type": "execute_result"
        }
      ]
    },
    {
      "cell_type": "code",
      "metadata": {
        "id": "eN18esgodSh1",
        "outputId": "23708303-f967-43dd-b5bb-4ab79f77b934"
      },
      "source": [
        "np.vander([-1,-0,0.5,1],5) #col-wise reverse to vander in Julia?"
      ],
      "execution_count": null,
      "outputs": [
        {
          "data": {
            "text/plain": [
              "array([[ 1.    , -1.    ,  1.    , -1.    ,  1.    ],\n",
              "       [ 0.    ,  0.    ,  0.    ,  0.    ,  1.    ],\n",
              "       [ 0.0625,  0.125 ,  0.25  ,  0.5   ,  1.    ],\n",
              "       [ 1.    ,  1.    ,  1.    ,  1.    ,  1.    ]])"
            ]
          },
          "execution_count": 217,
          "metadata": {},
          "output_type": "execute_result"
        }
      ]
    },
    {
      "cell_type": "code",
      "metadata": {
        "id": "fL-iIUmJdSh1",
        "outputId": "5d0f2b43-d4fc-4f42-fa57-eb36630a2585"
      },
      "source": [
        "#credits wolfram:\n",
        "#Vandermonde matrices are:\n",
        "#\"a type of matrix that arises in the polynomial least squares fitting, \n",
        "#Lagrange interpolating polynomials (Hoffman and Kunze p. 114), \n",
        "#and the reconstruction of a statistical distribution from the \n",
        "#distribution's moments [mean, variance, skewness, kurtosis (sharpness)]\"\n",
        "def vander(t,n):\n",
        "    m = len(t)\n",
        "    V = np.zeros((m,n))\n",
        "    for i in range(m):\n",
        "        for j in range(n):\n",
        "            V[i,j] = t[i]**(j)\n",
        "    return V\n",
        "\n",
        "#ie: \n",
        "# vander = lambda t,n : np.matrix([[i**(j) for i in t] for j in range(n)]).transpose()\n",
        "#or\n",
        "# vander = lambda t,n : np.vstack([np.array(t)**i for i in range(n)]).transpose()\n",
        "vander([-1,-0,0.5,1],5)"
      ],
      "execution_count": null,
      "outputs": [
        {
          "data": {
            "text/plain": [
              "array([[ 1.    , -1.    ,  1.    , -1.    ,  1.    ],\n",
              "       [ 1.    ,  0.    ,  0.    ,  0.    ,  0.    ],\n",
              "       [ 1.    ,  0.5   ,  0.25  ,  0.125 ,  0.0625],\n",
              "       [ 1.    ,  1.    ,  1.    ,  1.    ,  1.    ]])"
            ]
          },
          "execution_count": 249,
          "metadata": {},
          "output_type": "execute_result"
        }
      ]
    },
    {
      "cell_type": "markdown",
      "metadata": {
        "id": "TbFguEbCdSh2"
      },
      "source": [
        "# 6.5 Complexity"
      ]
    },
    {
      "cell_type": "code",
      "metadata": {
        "id": "92xD6HDsdSh2",
        "outputId": "f40ea7c9-3e6e-4b11-c0f6-b3b78c4dd78d"
      },
      "source": [
        "A,x = np.random.rand(1000,10000), np.random.rand(10000)\n",
        "%timeit y=np.matmul(A,x)"
      ],
      "execution_count": null,
      "outputs": [
        {
          "name": "stdout",
          "output_type": "stream",
          "text": [
            "3.62 ms ± 40.5 µs per loop (mean ± std. dev. of 7 runs, 100 loops each)\n"
          ]
        }
      ]
    },
    {
      "cell_type": "code",
      "metadata": {
        "id": "MwjCZHw6dSh2",
        "outputId": "4c42a8f6-039e-4df1-e0f0-c45fc2984b6f"
      },
      "source": [
        "%timeit y=np.matmul(A,x)"
      ],
      "execution_count": null,
      "outputs": [
        {
          "name": "stdout",
          "output_type": "stream",
          "text": [
            "3.52 ms ± 60.5 µs per loop (mean ± std. dev. of 7 runs, 100 loops each)\n"
          ]
        }
      ]
    },
    {
      "cell_type": "code",
      "metadata": {
        "id": "QllY2M7BdSh2",
        "outputId": "350a714c-9228-4a07-b27e-9867a3055004"
      },
      "source": [
        "A,x = np.random.rand(5000,20000), np.random.rand(20000)\n",
        "%timeit y=np.matmul(A,x)"
      ],
      "execution_count": null,
      "outputs": [
        {
          "name": "stdout",
          "output_type": "stream",
          "text": [
            "40 ms ± 641 µs per loop (mean ± std. dev. of 7 runs, 10 loops each)\n"
          ]
        }
      ]
    },
    {
      "cell_type": "code",
      "metadata": {
        "id": "o-IwOEaAdSh2",
        "outputId": "71d9c6b3-238f-4f7f-f529-b069e59dcc02"
      },
      "source": [
        "%timeit y=np.matmul(A,x)"
      ],
      "execution_count": null,
      "outputs": [
        {
          "name": "stdout",
          "output_type": "stream",
          "text": [
            "39.4 ms ± 956 µs per loop (mean ± std. dev. of 7 runs, 10 loops each)\n"
          ]
        }
      ]
    },
    {
      "cell_type": "markdown",
      "metadata": {
        "id": "PxuROTgmdSh2"
      },
      "source": [
        "#### Complexity of multiplying m x n matrix with an n vector is linear with both m and n, we see a factor of 10 time increase given a factor of of 5 and 2 for m and n increasing"
      ]
    }
  ]
}