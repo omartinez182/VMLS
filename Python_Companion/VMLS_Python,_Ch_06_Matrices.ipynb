{
  "nbformat": 4,
  "nbformat_minor": 0,
  "metadata": {
    "kernelspec": {
      "display_name": "Python 3",
      "language": "python",
      "name": "python3"
    },
    "language_info": {
      "codemirror_mode": {
        "name": "ipython",
        "version": 3
      },
      "file_extension": ".py",
      "mimetype": "text/x-python",
      "name": "python",
      "nbconvert_exporter": "python",
      "pygments_lexer": "ipython3",
      "version": "3.7.4"
    },
    "colab": {
      "name": "VMLS Python, Ch.06 Matrices.ipynb",
      "provenance": [],
      "collapsed_sections": [
        "JGwXOPYvdShe",
        "gMnTJrTHdShu",
        "F-_tL98QdShy",
        "PxuROTgmdSh2"
      ],
      "include_colab_link": true
    }
  },
  "cells": [
    {
      "cell_type": "markdown",
      "metadata": {
        "id": "view-in-github",
        "colab_type": "text"
      },
      "source": [
        "<a href=\"https://colab.research.google.com/github/omartinez182/VMLS/blob/main/Python_Companion/VMLS_Python%2C_Ch_06_Matrices.ipynb\" target=\"_parent\"><img src=\"https://colab.research.google.com/assets/colab-badge.svg\" alt=\"Open In Colab\"/></a>"
      ]
    },
    {
      "cell_type": "code",
      "metadata": {
        "id": "H9KhQ3THdShb"
      },
      "source": [
        "import numpy as np\n",
        "import numpy.linalg as npl\n",
        "import math\n",
        "import matplotlib.pyplot as plt"
      ],
      "execution_count": 1,
      "outputs": []
    },
    {
      "cell_type": "markdown",
      "metadata": {
        "id": "JGwXOPYvdShe"
      },
      "source": [
        "# 6.1 Matrices"
      ]
    },
    {
      "cell_type": "code",
      "metadata": {
        "scrolled": true,
        "id": "YK8r2iR7dShg",
        "colab": {
          "base_uri": "https://localhost:8080/"
        },
        "outputId": "8d1db206-ada1-4a58-c4ab-180867f67079"
      },
      "source": [
        "A = np.matrix([[0.0, 1.0, -2.3, 0.1], [1.3, 4.0, -0.1, 0.0],[4.1,-1.0, 0.0, 1.7]])\n",
        "B = np.matrix([[0.0, 1.0], [1.3, 4.0],[4.1,-1.0]])\n",
        "\n",
        "A #in Julia you ommit the multiple array brackets and commas, \n",
        "  #and use semi colons to break rows"
      ],
      "execution_count": 2,
      "outputs": [
        {
          "output_type": "execute_result",
          "data": {
            "text/plain": [
              "matrix([[ 0. ,  1. , -2.3,  0.1],\n",
              "        [ 1.3,  4. , -0.1,  0. ],\n",
              "        [ 4.1, -1. ,  0. ,  1.7]])"
            ]
          },
          "metadata": {},
          "execution_count": 2
        }
      ]
    },
    {
      "cell_type": "code",
      "metadata": {
        "id": "7fMgyln0dShh",
        "colab": {
          "base_uri": "https://localhost:8080/"
        },
        "outputId": "419e1d8b-2f87-4156-ade7-9e924178784c"
      },
      "source": [
        "m,n = np.shape(A) #J: m,n = size(A)\n",
        "m,n, np.shape(A)[0],np.shape(A)[1] #J: size(A,1)"
      ],
      "execution_count": 3,
      "outputs": [
        {
          "output_type": "execute_result",
          "data": {
            "text/plain": [
              "(3, 4, 3, 4)"
            ]
          },
          "metadata": {},
          "execution_count": 3
        }
      ]
    },
    {
      "cell_type": "code",
      "metadata": {
        "id": "UaIaa1SfdShi",
        "colab": {
          "base_uri": "https://localhost:8080/"
        },
        "outputId": "c60cee2a-6546-4c89-b2f5-a74a9a4da55a"
      },
      "source": [
        "isTall = lambda x: np.shape(x)[0] > np.shape(x)[1] #J: size(X,1)>size(X,2)\n",
        "isTall(A), isTall(B)"
      ],
      "execution_count": 4,
      "outputs": [
        {
          "output_type": "execute_result",
          "data": {
            "text/plain": [
              "(False, True)"
            ]
          },
          "metadata": {},
          "execution_count": 4
        }
      ]
    },
    {
      "cell_type": "code",
      "metadata": {
        "id": "ceds_SoodShj",
        "colab": {
          "base_uri": "https://localhost:8080/"
        },
        "outputId": "192d90fb-5052-43c1-bbce-5c56265ab0eb"
      },
      "source": [
        "A[1,2], A[0,2], A[2,1] #Coordinates can be interpreted as y,x\n",
        "                       #or list index, item index"
      ],
      "execution_count": 5,
      "outputs": [
        {
          "output_type": "execute_result",
          "data": {
            "text/plain": [
              "(-0.1, -2.3, -1.0)"
            ]
          },
          "metadata": {},
          "execution_count": 5
        }
      ]
    },
    {
      "cell_type": "code",
      "metadata": {
        "id": "wuBWaMEUdShk",
        "colab": {
          "base_uri": "https://localhost:8080/"
        },
        "outputId": "43cf061b-bf37-4374-ebba-67ccbaefdb69"
      },
      "source": [
        "Z = np.matrix([[-1,0,2],[-1,2,-3]])\n",
        "Z[1,1] #J: Z[5]"
      ],
      "execution_count": 6,
      "outputs": [
        {
          "output_type": "execute_result",
          "data": {
            "text/plain": [
              "2"
            ]
          },
          "metadata": {},
          "execution_count": 6
        }
      ]
    },
    {
      "cell_type": "code",
      "metadata": {
        "id": "245tqpxAdShl",
        "colab": {
          "base_uri": "https://localhost:8080/"
        },
        "outputId": "4cacd5fb-82aa-47d8-d4f8-eade2f7e6640"
      },
      "source": [
        "B = A.copy()\n",
        "B[1,1] = 0\n",
        "np.array_equal(A,B), A==B #J: second eval would get first result , second result done with .="
      ],
      "execution_count": 7,
      "outputs": [
        {
          "output_type": "execute_result",
          "data": {
            "text/plain": [
              "(False, matrix([[ True,  True,  True,  True],\n",
              "         [ True, False,  True,  True],\n",
              "         [ True,  True,  True,  True]]))"
            ]
          },
          "metadata": {},
          "execution_count": 7
        }
      ]
    },
    {
      "cell_type": "code",
      "metadata": {
        "id": "32HiWI-udShm",
        "colab": {
          "base_uri": "https://localhost:8080/"
        },
        "outputId": "804e95fa-c4db-42d1-f77f-28f88f18601a"
      },
      "source": [
        "np.sum(A==B), sum(A==B)"
      ],
      "execution_count": 8,
      "outputs": [
        {
          "output_type": "execute_result",
          "data": {
            "text/plain": [
              "(11, matrix([[3, 2, 3, 3]]))"
            ]
          },
          "metadata": {},
          "execution_count": 8
        }
      ]
    },
    {
      "cell_type": "code",
      "metadata": {
        "id": "F7U2fjWydShn",
        "colab": {
          "base_uri": "https://localhost:8080/"
        },
        "outputId": "2479017f-e7d5-4980-bc12-f4b7fc0bfc5d"
      },
      "source": [
        "a = np.matrix([-2.1, -3, 0])\n",
        "b = np.array([-2.1, -3, 0])\n",
        "a,b"
      ],
      "execution_count": 9,
      "outputs": [
        {
          "output_type": "execute_result",
          "data": {
            "text/plain": [
              "(matrix([[-2.1, -3. ,  0. ]]), array([-2.1, -3. ,  0. ]))"
            ]
          },
          "metadata": {},
          "execution_count": 9
        }
      ]
    },
    {
      "cell_type": "code",
      "metadata": {
        "id": "gi3iUboTdShn",
        "colab": {
          "base_uri": "https://localhost:8080/"
        },
        "outputId": "2e0a997e-ced3-4c0c-9204-d2df4018070f"
      },
      "source": [
        "A = np.matrix([[-1, 0, 1, 0], [2,-3,0,1],[0,4,-2,1]])\n",
        "A"
      ],
      "execution_count": 10,
      "outputs": [
        {
          "output_type": "execute_result",
          "data": {
            "text/plain": [
              "matrix([[-1,  0,  1,  0],\n",
              "        [ 2, -3,  0,  1],\n",
              "        [ 0,  4, -2,  1]])"
            ]
          },
          "metadata": {},
          "execution_count": 10
        }
      ]
    },
    {
      "cell_type": "code",
      "metadata": {
        "id": "z4a1YKF_dSho",
        "colab": {
          "base_uri": "https://localhost:8080/"
        },
        "outputId": "ddf22970-c47f-4317-86f8-cc3dd2eeea8e"
      },
      "source": [
        "A[0:2,2:4] \n",
        "\n",
        "#in J: [1:2,3:4]\n",
        "#difference because 1) 0 indexing vs 1 indexing\n",
        "#                   2) slice value exclusive vs inclusive\n",
        "#                   ie: [0:2] in python says lists 0 and 1\n",
        "#                       [1:2] in julia says lists 1 and 2               "
      ],
      "execution_count": 11,
      "outputs": [
        {
          "output_type": "execute_result",
          "data": {
            "text/plain": [
              "matrix([[1, 0],\n",
              "        [0, 1]])"
            ]
          },
          "metadata": {},
          "execution_count": 11
        }
      ]
    },
    {
      "cell_type": "code",
      "metadata": {
        "id": "yIBTYOvxdShr",
        "colab": {
          "base_uri": "https://localhost:8080/"
        },
        "outputId": "4041541e-b306-4112-e59f-678820c318d3"
      },
      "source": [
        "A[:,2] #J: [:,3]"
      ],
      "execution_count": 12,
      "outputs": [
        {
          "output_type": "execute_result",
          "data": {
            "text/plain": [
              "matrix([[ 1],\n",
              "        [ 0],\n",
              "        [-2]])"
            ]
          },
          "metadata": {},
          "execution_count": 12
        }
      ]
    },
    {
      "cell_type": "code",
      "metadata": {
        "id": "Ug0WlctPdShr",
        "colab": {
          "base_uri": "https://localhost:8080/"
        },
        "outputId": "ea9e6a21-7bff-4d9b-ca48-3d7e4e40a984"
      },
      "source": [
        "np.vstack(A[1,:]),A[1,:]\n",
        "#J: this *row* will automatically get returned as a *col* (???)"
      ],
      "execution_count": 13,
      "outputs": [
        {
          "output_type": "execute_result",
          "data": {
            "text/plain": [
              "(matrix([[ 2, -3,  0,  1]]), matrix([[ 2, -3,  0,  1]]))"
            ]
          },
          "metadata": {},
          "execution_count": 13
        }
      ]
    },
    {
      "cell_type": "code",
      "metadata": {
        "id": "DiJDFaUGdShs",
        "colab": {
          "base_uri": "https://localhost:8080/"
        },
        "outputId": "e0776612-3120-4c71-e117-ccd180accc12"
      },
      "source": [
        "m = np.shape(A)[0]\n",
        "A[::-1] #J: [m:-1:1,:]"
      ],
      "execution_count": 14,
      "outputs": [
        {
          "output_type": "execute_result",
          "data": {
            "text/plain": [
              "matrix([[ 0,  4, -2,  1],\n",
              "        [ 2, -3,  0,  1],\n",
              "        [-1,  0,  1,  0]])"
            ]
          },
          "metadata": {},
          "execution_count": 14
        }
      ]
    },
    {
      "cell_type": "code",
      "metadata": {
        "id": "Knv2NDKAdShs",
        "colab": {
          "base_uri": "https://localhost:8080/"
        },
        "outputId": "34c98417-23bb-4389-8313-4ce48f884a33"
      },
      "source": [
        "B = np.matrix([[1,-3],[2,0],[1,-2]])\n",
        "B"
      ],
      "execution_count": 15,
      "outputs": [
        {
          "output_type": "execute_result",
          "data": {
            "text/plain": [
              "matrix([[ 1, -3],\n",
              "        [ 2,  0],\n",
              "        [ 1, -2]])"
            ]
          },
          "metadata": {},
          "execution_count": 15
        }
      ]
    },
    {
      "cell_type": "code",
      "metadata": {
        "id": "XTfzJzKOdShs",
        "colab": {
          "base_uri": "https://localhost:8080/"
        },
        "outputId": "f3e0f2b7-23d9-4cb1-a85f-6adc54fc412f"
      },
      "source": [
        "np.vstack(B.flatten())\n",
        "# J: B[:]\n",
        "#can also use: np.matrix(B.A1).transpose(), B.ravel().transpose()"
      ],
      "execution_count": 16,
      "outputs": [
        {
          "output_type": "execute_result",
          "data": {
            "text/plain": [
              "matrix([[ 1, -3,  2,  0,  1, -2]])"
            ]
          },
          "metadata": {},
          "execution_count": 16
        }
      ]
    },
    {
      "cell_type": "code",
      "metadata": {
        "id": "Be_WUd27dSht",
        "colab": {
          "base_uri": "https://localhost:8080/"
        },
        "outputId": "5bbdecdf-60c0-4d7b-c116-b9b42dd56f54"
      },
      "source": [
        "np.reshape(B,(2,3))\n",
        "# Here numpy reads the matrix from left to right as it originally was\n",
        "# and writes them row wise\n",
        "# In Julia (2,3) reads the first values in each list, and writes them\n",
        "# column wise:\n",
        "# 1 1 0\n",
        "# 2 -3 -2"
      ],
      "execution_count": 17,
      "outputs": [
        {
          "output_type": "execute_result",
          "data": {
            "text/plain": [
              "matrix([[ 1, -3,  2],\n",
              "        [ 0,  1, -2]])"
            ]
          },
          "metadata": {},
          "execution_count": 17
        }
      ]
    },
    {
      "cell_type": "code",
      "metadata": {
        "id": "Dk6YDqNadSht",
        "colab": {
          "base_uri": "https://localhost:8080/"
        },
        "outputId": "074f5480-d070-44c0-e880-3b2f603a8014"
      },
      "source": [
        "B = np.matrix([0,2,3])\n",
        "C = np.matrix([-1])\n",
        "D = np.matrix([[2,2,1],[1,3,5]])\n",
        "E = np.matrix([[4],[4]])\n",
        "A = np.block([[B,C],[D,E]]) #J: A = [B C; D E]\n",
        "A"
      ],
      "execution_count": 18,
      "outputs": [
        {
          "output_type": "execute_result",
          "data": {
            "text/plain": [
              "matrix([[ 0,  2,  3, -1],\n",
              "        [ 2,  2,  1,  4],\n",
              "        [ 1,  3,  5,  4]])"
            ]
          },
          "metadata": {},
          "execution_count": 18
        }
      ]
    },
    {
      "cell_type": "code",
      "metadata": {
        "id": "FCzVCvNudSht",
        "colab": {
          "base_uri": "https://localhost:8080/"
        },
        "outputId": "100f40a9-d9ba-416d-b686-b9b09ae7c05e"
      },
      "source": [
        "a = np.array([[1.,2.],[4.,5.],[7.,8.]])\n",
        "a"
      ],
      "execution_count": 19,
      "outputs": [
        {
          "output_type": "execute_result",
          "data": {
            "text/plain": [
              "array([[1., 2.],\n",
              "       [4., 5.],\n",
              "       [7., 8.]])"
            ]
          },
          "metadata": {},
          "execution_count": 19
        }
      ]
    },
    {
      "cell_type": "code",
      "metadata": {
        "id": "dqnG8XH1dSht",
        "colab": {
          "base_uri": "https://localhost:8080/"
        },
        "outputId": "c040e02f-3e7f-4d7f-f9ba-c5ff834d691a"
      },
      "source": [
        "A = np.stack(a,-1) #J: A = hcat(a...)\n",
        "A"
      ],
      "execution_count": 20,
      "outputs": [
        {
          "output_type": "execute_result",
          "data": {
            "text/plain": [
              "array([[1., 4., 7.],\n",
              "       [2., 5., 8.]])"
            ]
          },
          "metadata": {},
          "execution_count": 20
        }
      ]
    },
    {
      "cell_type": "code",
      "metadata": {
        "id": "4n7s6fZ2dShu",
        "colab": {
          "base_uri": "https://localhost:8080/"
        },
        "outputId": "8022c157-c0e5-4db3-95ab-f8fff619a421"
      },
      "source": [
        "A = np.stack(a,1) #J: A = vcat(a...)\n",
        "a"
      ],
      "execution_count": 21,
      "outputs": [
        {
          "output_type": "execute_result",
          "data": {
            "text/plain": [
              "array([[1., 2.],\n",
              "       [4., 5.],\n",
              "       [7., 8.]])"
            ]
          },
          "metadata": {},
          "execution_count": 21
        }
      ]
    },
    {
      "cell_type": "code",
      "metadata": {
        "id": "3L4Z4427dShu",
        "colab": {
          "base_uri": "https://localhost:8080/",
          "height": 0
        },
        "outputId": "39b06886-6dbb-44f4-8a02-a133fb6e0d29"
      },
      "source": [
        "#detour from companion to sketch adjacency matrix example from p112 of VMLS\n",
        "import networkx as nx\n",
        "pg112 = np.matrix([[0,1,1,0],[1,0,0,1],[0,0,0,1],[1,0,0,0]])\n",
        "G = nx.from_numpy_matrix(pg112)\n",
        "pos = nx.layout.spring_layout(G)\n",
        "node_sizes = [3 + 10 * i for i in range(len(G))]\n",
        "M = G.number_of_edges()\n",
        "edge_colors = range(2, M + 2)\n",
        "edge_alphas = [(5 + i) / (M + 4) for i in range(M)]\n",
        "\n",
        "nodes = nx.draw_networkx_nodes(G, pos, node_size=node_sizes, node_color='blue')\n",
        "edges = nx.draw_networkx_edges(G, pos, node_size=node_sizes, arrowstyle='->',\n",
        "                               arrowsize=10, edge_color=edge_colors,\n",
        "                               edge_cmap=plt.cm.Blues, width=2)\n",
        "\n",
        "ax = plt.gca()\n",
        "ax.set_axis_off()\n",
        "plt.show()"
      ],
      "execution_count": 22,
      "outputs": [
        {
          "output_type": "display_data",
          "data": {
            "image/png": "[encoded data removed]",
            "text/plain": [
              "<Figure size 432x288 with 1 Axes>"
            ]
          },
          "metadata": {}
        }
      ]
    },
    {
      "cell_type": "markdown",
      "metadata": {
        "id": "gMnTJrTHdShu"
      },
      "source": [
        "# 6.2 Zero and Identity Matrices"
      ]
    },
    {
      "cell_type": "code",
      "metadata": {
        "id": "B5EvbR92dShv",
        "colab": {
          "base_uri": "https://localhost:8080/"
        },
        "outputId": "52b5116b-2ed6-49a1-dd5d-ea73f1204df5"
      },
      "source": [
        "np.zeros((2,2)) #J: zeros(2,2)"
      ],
      "execution_count": 23,
      "outputs": [
        {
          "output_type": "execute_result",
          "data": {
            "text/plain": [
              "array([[0., 0.],\n",
              "       [0., 0.]])"
            ]
          },
          "metadata": {},
          "execution_count": 23
        }
      ]
    },
    {
      "cell_type": "code",
      "metadata": {
        "id": "9f52slA0dShv",
        "colab": {
          "base_uri": "https://localhost:8080/"
        },
        "outputId": "1dcb21e6-2c9e-4a69-f082-a115f2d92117"
      },
      "source": [
        "A = np.identity(4)\n",
        "A"
      ],
      "execution_count": 24,
      "outputs": [
        {
          "output_type": "execute_result",
          "data": {
            "text/plain": [
              "array([[1., 0., 0., 0.],\n",
              "       [0., 1., 0., 0.],\n",
              "       [0., 0., 1., 0.],\n",
              "       [0., 0., 0., 1.]])"
            ]
          },
          "metadata": {},
          "execution_count": 24
        }
      ]
    },
    {
      "cell_type": "code",
      "metadata": {
        "id": "vuuMiNCkdShv",
        "colab": {
          "base_uri": "https://localhost:8080/"
        },
        "outputId": "3874fc4e-1311-4072-f5c6-17562ee5a25f"
      },
      "source": [
        "A = np.array([[1,-1,2],[0,3,-1]])\n",
        "np.hstack([A, np.identity(np.shape(A)[0])]) #J: [A I]"
      ],
      "execution_count": 25,
      "outputs": [
        {
          "output_type": "execute_result",
          "data": {
            "text/plain": [
              "array([[ 1., -1.,  2.,  1.,  0.],\n",
              "       [ 0.,  3., -1.,  0.,  1.]])"
            ]
          },
          "metadata": {},
          "execution_count": 25
        }
      ]
    },
    {
      "cell_type": "code",
      "metadata": {
        "colab": {
          "base_uri": "https://localhost:8080/"
        },
        "id": "9lGqdaeIq7tN",
        "outputId": "830710f9-deaa-42c4-fc28-4026b19cd42c"
      },
      "source": [
        "A = np.array([[1,-1,2],[0,3,-1]])\n",
        "np.vstack([A, np.identity(np.shape(A)[1])]) #J: [A I]"
      ],
      "execution_count": 26,
      "outputs": [
        {
          "output_type": "execute_result",
          "data": {
            "text/plain": [
              "array([[ 1., -1.,  2.],\n",
              "       [ 0.,  3., -1.],\n",
              "       [ 1.,  0.,  0.],\n",
              "       [ 0.,  1.,  0.],\n",
              "       [ 0.,  0.,  1.]])"
            ]
          },
          "metadata": {},
          "execution_count": 26
        }
      ]
    },
    {
      "cell_type": "code",
      "metadata": {
        "id": "-ewbKsYDdShw",
        "colab": {
          "base_uri": "https://localhost:8080/"
        },
        "outputId": "eb6de62b-652b-4c04-a6d3-55ceb0187920"
      },
      "source": [
        "B = np.array([[1,2],[3,4]])\n",
        "B+np.identity(np.shape(B)[0]) #J: B+I"
      ],
      "execution_count": 27,
      "outputs": [
        {
          "output_type": "execute_result",
          "data": {
            "text/plain": [
              "array([[2., 2.],\n",
              "       [3., 5.]])"
            ]
          },
          "metadata": {},
          "execution_count": 27
        }
      ]
    },
    {
      "cell_type": "code",
      "metadata": {
        "id": "HfGCYgVydShw",
        "colab": {
          "base_uri": "https://localhost:8080/"
        },
        "outputId": "d9fe69bb-9d2f-4b6f-e6af-c93a7bb62282"
      },
      "source": [
        "np.diag([1,2,3]) #J: diagm(0=>x)"
      ],
      "execution_count": 28,
      "outputs": [
        {
          "output_type": "execute_result",
          "data": {
            "text/plain": [
              "array([[1, 0, 0],\n",
              "       [0, 2, 0],\n",
              "       [0, 0, 3]])"
            ]
          },
          "metadata": {},
          "execution_count": 28
        }
      ]
    },
    {
      "cell_type": "code",
      "metadata": {
        "id": "xtP51eqxdShw",
        "colab": {
          "base_uri": "https://localhost:8080/"
        },
        "outputId": "89a8b0dd-a217-41ec-dfca-5dcd9dffd4ff"
      },
      "source": [
        "H = np.matrix([[0,1,-2,1],[2,-1,3,0]])\n",
        "H\n",
        "np.vstack(np.diag(H)) #J: diag(H)"
      ],
      "execution_count": 29,
      "outputs": [
        {
          "output_type": "execute_result",
          "data": {
            "text/plain": [
              "array([[ 0],\n",
              "       [-1]])"
            ]
          },
          "metadata": {},
          "execution_count": 29
        }
      ]
    },
    {
      "cell_type": "code",
      "metadata": {
        "id": "ChOZ4abEdShw",
        "colab": {
          "base_uri": "https://localhost:8080/"
        },
        "outputId": "1acee1d0-905d-48fb-cb61-5fd097cb9436"
      },
      "source": [
        "np.random.rand(2,3), np.random.randn(3,2) #J: rand(2,3), randn(3,2)"
      ],
      "execution_count": 30,
      "outputs": [
        {
          "output_type": "execute_result",
          "data": {
            "text/plain": [
              "(array([[0.71613814, 0.35857473, 0.70045103],\n",
              "        [0.39899546, 0.93690779, 0.49452751]]),\n",
              " array([[-0.55435819, -1.52283715],\n",
              "        [-1.64086711, -0.02011878],\n",
              "        [ 0.12367317,  0.02639949]]))"
            ]
          },
          "metadata": {},
          "execution_count": 30
        }
      ]
    },
    {
      "cell_type": "code",
      "metadata": {
        "id": "tJ_eei7vdShw"
      },
      "source": [
        "I = np.array([1,2,2,1,3,4]) #rows\n",
        "J = np.array([1,1,2,3,3,4]) #cols\n",
        "V = np.array([-1.11,.15,-.1, 1.17, -.3,.13]) #data"
      ],
      "execution_count": 31,
      "outputs": []
    },
    {
      "cell_type": "code",
      "metadata": {
        "id": "gNDWca20dShw",
        "colab": {
          "base_uri": "https://localhost:8080/"
        },
        "outputId": "702c1ca7-5830-486b-dc12-98ea3b3a773e"
      },
      "source": [
        "from scipy.sparse import csc_matrix, rand, find\n",
        "csc_matrix([I,J,V]).toarray().transpose() #J: A = sparse(I,J,V,4,5)"
      ],
      "execution_count": 32,
      "outputs": [
        {
          "output_type": "execute_result",
          "data": {
            "text/plain": [
              "array([[ 1.  ,  1.  , -1.11],\n",
              "       [ 2.  ,  1.  ,  0.15],\n",
              "       [ 2.  ,  2.  , -0.1 ],\n",
              "       [ 1.  ,  3.  ,  1.17],\n",
              "       [ 3.  ,  3.  , -0.3 ],\n",
              "       [ 4.  ,  4.  ,  0.13]])"
            ]
          },
          "metadata": {},
          "execution_count": 32
        }
      ]
    },
    {
      "cell_type": "code",
      "metadata": {
        "id": "y_Lc9visdShx",
        "colab": {
          "base_uri": "https://localhost:8080/"
        },
        "outputId": "ffab4813-05d2-48e5-c51b-3fdb523cffa4"
      },
      "source": [
        "A = csc_matrix([[1,3,2,1],[1,1,2,3],[1.0,2.0,3.0,4.0]]).transpose()\n",
        "A.toarray(), np.count_nonzero(A.toarray())"
      ],
      "execution_count": 33,
      "outputs": [
        {
          "output_type": "execute_result",
          "data": {
            "text/plain": [
              "(array([[1., 1., 1.],\n",
              "        [3., 1., 2.],\n",
              "        [2., 2., 3.],\n",
              "        [1., 3., 4.]]), 12)"
            ]
          },
          "metadata": {},
          "execution_count": 33
        }
      ]
    },
    {
      "cell_type": "code",
      "metadata": {
        "id": "mzj4aJOrdShx"
      },
      "source": [
        "#Not sure what's going on on page 53 final example of returning a 3x3 non-sparse matrix \n",
        "#looks like it takes the 4x1 RHS of the sparse matrix and shapes it into a 3x3"
      ],
      "execution_count": 34,
      "outputs": []
    },
    {
      "cell_type": "code",
      "metadata": {
        "id": "t-cVApt4dShx",
        "colab": {
          "base_uri": "https://localhost:8080/"
        },
        "outputId": "d38740f6-0586-4ee3-e6e3-5a0eaf7cca6e"
      },
      "source": [
        "A = rand(10000,10000,density=10**-7, format='csc')\n",
        "A.nnz"
      ],
      "execution_count": 35,
      "outputs": [
        {
          "output_type": "execute_result",
          "data": {
            "text/plain": [
              "10"
            ]
          },
          "metadata": {},
          "execution_count": 35
        }
      ]
    },
    {
      "cell_type": "code",
      "metadata": {
        "id": "tvexbfh1dShx",
        "colab": {
          "base_uri": "https://localhost:8080/"
        },
        "outputId": "53126edf-552e-482d-a150-8634822cbdc8"
      },
      "source": [
        "find(A)"
      ],
      "execution_count": 36,
      "outputs": [
        {
          "output_type": "execute_result",
          "data": {
            "text/plain": [
              "(array([7697, 2947, 7245, 9321, 8931,  388, 3365, 6282, 5066, 9208],\n",
              "       dtype=int32),\n",
              " array([2194, 2883, 4200, 4366, 5502, 5741, 6357, 7891, 8360, 8731],\n",
              "       dtype=int32),\n",
              " array([0.94842097, 0.10154075, 0.88382939, 0.327511  , 0.02752636,\n",
              "        0.16837532, 0.65737538, 0.93904074, 0.21350202, 0.32118178]))"
            ]
          },
          "metadata": {},
          "execution_count": 36
        }
      ]
    },
    {
      "cell_type": "markdown",
      "metadata": {
        "id": "F-_tL98QdShy"
      },
      "source": [
        "# 6.3 Transpose, Addition, Norm"
      ]
    },
    {
      "cell_type": "code",
      "metadata": {
        "id": "U3OHQlb3dShy",
        "colab": {
          "base_uri": "https://localhost:8080/"
        },
        "outputId": "16fb2e46-4ddb-4f0e-840d-e5b7aa900282"
      },
      "source": [
        "H = np.array([[0,1,-2,1],[2,-1,3,0]])\n",
        "H"
      ],
      "execution_count": 37,
      "outputs": [
        {
          "output_type": "execute_result",
          "data": {
            "text/plain": [
              "array([[ 0,  1, -2,  1],\n",
              "       [ 2, -1,  3,  0]])"
            ]
          },
          "metadata": {},
          "execution_count": 37
        }
      ]
    },
    {
      "cell_type": "code",
      "metadata": {
        "id": "TpNE7D1-dShy",
        "colab": {
          "base_uri": "https://localhost:8080/"
        },
        "outputId": "b0fd0614-7a62-4448-e138-5afe8c5f2f6b"
      },
      "source": [
        "H.transpose() #J : H'"
      ],
      "execution_count": 38,
      "outputs": [
        {
          "output_type": "execute_result",
          "data": {
            "text/plain": [
              "array([[ 0,  2],\n",
              "       [ 1, -1],\n",
              "       [-2,  3],\n",
              "       [ 1,  0]])"
            ]
          },
          "metadata": {},
          "execution_count": 38
        }
      ]
    },
    {
      "cell_type": "code",
      "metadata": {
        "id": "dZ3gQOzodShz",
        "colab": {
          "base_uri": "https://localhost:8080/"
        },
        "outputId": "9c176670-0197-4703-f20d-0633c419790d"
      },
      "source": [
        "U,V = np.array([[0,4],[7,0],[3,1]]),np.array([[1,2],[2,3],[0,4]])\n",
        "U, V"
      ],
      "execution_count": 39,
      "outputs": [
        {
          "output_type": "execute_result",
          "data": {
            "text/plain": [
              "(array([[0, 4],\n",
              "        [7, 0],\n",
              "        [3, 1]]), array([[1, 2],\n",
              "        [2, 3],\n",
              "        [0, 4]]))"
            ]
          },
          "metadata": {},
          "execution_count": 39
        }
      ]
    },
    {
      "cell_type": "code",
      "metadata": {
        "id": "-dlsyyeAdShz",
        "colab": {
          "base_uri": "https://localhost:8080/"
        },
        "outputId": "9ae24e0f-3377-4e74-e0ed-99543d86772e"
      },
      "source": [
        "U+V, 2.2*U "
      ],
      "execution_count": 40,
      "outputs": [
        {
          "output_type": "execute_result",
          "data": {
            "text/plain": [
              "(array([[1, 6],\n",
              "        [9, 3],\n",
              "        [3, 5]]), array([[ 0. ,  8.8],\n",
              "        [15.4,  0. ],\n",
              "        [ 6.6,  2.2]]))"
            ]
          },
          "metadata": {},
          "execution_count": 40
        }
      ]
    },
    {
      "cell_type": "code",
      "metadata": {
        "id": "CUj5xhWFdShz",
        "colab": {
          "base_uri": "https://localhost:8080/"
        },
        "outputId": "94805e3e-8783-46ab-fd44-ceec9b2b8c72"
      },
      "source": [
        "#matrix norms\n",
        "A = np.array([[2,3,-1],[0,-1,4]])\n",
        "npl.norm(A), npl.norm(A[:])"
      ],
      "execution_count": 41,
      "outputs": [
        {
          "output_type": "execute_result",
          "data": {
            "text/plain": [
              "(5.5677643628300215, 5.5677643628300215)"
            ]
          },
          "metadata": {},
          "execution_count": 41
        }
      ]
    },
    {
      "cell_type": "code",
      "metadata": {
        "id": "BmotJ6ycdShz",
        "colab": {
          "base_uri": "https://localhost:8080/"
        },
        "outputId": "fd4aa4ae-38f8-4d72-9c38-00c513befeaf"
      },
      "source": [
        "#triangle inequality\n",
        "A,B = np.array([[-1,0],[2,2]]),np.array([[3,1],[-3,2]])\n",
        "print(npl.norm(A+B), npl.norm(A)+npl.norm(B))\n",
        "npl.norm(A+B) <= npl.norm(A)+npl.norm(B)"
      ],
      "execution_count": 42,
      "outputs": [
        {
          "output_type": "stream",
          "name": "stdout",
          "text": [
            "4.69041575982343 7.795831523312719\n"
          ]
        },
        {
          "output_type": "execute_result",
          "data": {
            "text/plain": [
              "True"
            ]
          },
          "metadata": {},
          "execution_count": 42
        }
      ]
    },
    {
      "cell_type": "markdown",
      "metadata": {
        "id": "Ko1dAcWkdSh0"
      },
      "source": [
        "# 6.4 Matrix-Vector Multiplication"
      ]
    },
    {
      "cell_type": "code",
      "metadata": {
        "id": "WSt7TJJydSh0",
        "colab": {
          "base_uri": "https://localhost:8080/"
        },
        "outputId": "cdb99200-a27b-4db4-8a85-e579aff2919d"
      },
      "source": [
        "A,x = np.array([[0,2,-1],[-2,1,1]]), np.array([2,1,-1])\n",
        "np.matmul(A,x) #J: A*x, which in python returns a 2x3 with A values multiplied by x values"
      ],
      "execution_count": 43,
      "outputs": [
        {
          "output_type": "execute_result",
          "data": {
            "text/plain": [
              "array([ 3, -4])"
            ]
          },
          "metadata": {},
          "execution_count": 43
        }
      ]
    },
    {
      "cell_type": "code",
      "metadata": {
        "id": "yk38nxHXdSh0",
        "colab": {
          "base_uri": "https://localhost:8080/"
        },
        "outputId": "3e96115a-0375-425f-e0e7-4b48a5871041"
      },
      "source": [
        "#c_ is an np method for adding a column. \n",
        "#J equiv: [-eye zeros] automatically adds column wise\n",
        "difference_matrix = lambda n: np.c_[-np.identity(n-1), np.zeros(n-1)] + np.c_[np.zeros(n-1), np.eye(n-1)] \n",
        "D = difference_matrix(4)\n",
        "D"
      ],
      "execution_count": 45,
      "outputs": [
        {
          "output_type": "execute_result",
          "data": {
            "text/plain": [
              "array([[-1.,  1.,  0.,  0.],\n",
              "       [ 0., -1.,  1.,  0.],\n",
              "       [ 0.,  0., -1.,  1.]])"
            ]
          },
          "metadata": {},
          "execution_count": 45
        }
      ]
    },
    {
      "cell_type": "code",
      "metadata": {
        "id": "_OLkbPaHdSh0",
        "colab": {
          "base_uri": "https://localhost:8080/"
        },
        "outputId": "a231dea5-2ae5-4595-d478-9103a0e7b6bf"
      },
      "source": [
        "np.matmul(D,np.array([-1,0,2,1]))"
      ],
      "execution_count": 46,
      "outputs": [
        {
          "output_type": "execute_result",
          "data": {
            "text/plain": [
              "array([ 1.,  2., -1.])"
            ]
          },
          "metadata": {},
          "execution_count": 46
        }
      ]
    },
    {
      "cell_type": "code",
      "metadata": {
        "id": "n5s8pfWKdSh0"
      },
      "source": [
        "#don't know what the sparse identity matrix is doing on 57"
      ],
      "execution_count": 47,
      "outputs": []
    },
    {
      "cell_type": "code",
      "metadata": {
        "id": "tAE4PzxddSh1"
      },
      "source": [
        "#running sum\n",
        "def running_sum(n):\n",
        "    S = np.zeros((n,n))\n",
        "    for i in range(n):\n",
        "        for j in range(i+1): #0 indexing fix to get diags = 1\n",
        "            S[i,j] = 1\n",
        "            \n",
        "    return S"
      ],
      "execution_count": 48,
      "outputs": []
    },
    {
      "cell_type": "code",
      "metadata": {
        "id": "U-s6r0HsdSh1",
        "colab": {
          "base_uri": "https://localhost:8080/"
        },
        "outputId": "e92f33ae-fd27-4298-b699-bdd1ae9d59f3"
      },
      "source": [
        "running_sum(4),np.matmul(running_sum(4),np.array([-1,1,2,0]))"
      ],
      "execution_count": 49,
      "outputs": [
        {
          "output_type": "execute_result",
          "data": {
            "text/plain": [
              "(array([[1., 0., 0., 0.],\n",
              "        [1., 1., 0., 0.],\n",
              "        [1., 1., 1., 0.],\n",
              "        [1., 1., 1., 1.]]), array([-1.,  0.,  2.,  2.]))"
            ]
          },
          "metadata": {},
          "execution_count": 49
        }
      ]
    },
    {
      "cell_type": "code",
      "metadata": {
        "id": "bJyyrsWxdSh1",
        "colab": {
          "base_uri": "https://localhost:8080/"
        },
        "outputId": "8367790a-8e69-4b04-862f-379f17af1684"
      },
      "source": [
        "#tril implementation #J: tril(ones(n,n))\n",
        "#also running sum test\n",
        "sum_test_list = np.tril(np.ones((4,4)))\n",
        "np.tril(np.ones((4,4))), [np.sum(i) for i in sum_test_list]"
      ],
      "execution_count": 52,
      "outputs": [
        {
          "output_type": "execute_result",
          "data": {
            "text/plain": [
              "(array([[1., 0., 0., 0.],\n",
              "        [1., 1., 0., 0.],\n",
              "        [1., 1., 1., 0.],\n",
              "        [1., 1., 1., 1.]]), [1.0, 2.0, 3.0, 4.0])"
            ]
          },
          "metadata": {},
          "execution_count": 52
        }
      ]
    },
    {
      "cell_type": "code",
      "metadata": {
        "id": "eN18esgodSh1",
        "colab": {
          "base_uri": "https://localhost:8080/"
        },
        "outputId": "9f136a02-69e7-4531-d9a4-e49a5a5d9e3c"
      },
      "source": [
        "np.vander([-1,-0,0.5,1],5) #col-wise reverse to vander in Julia?"
      ],
      "execution_count": 54,
      "outputs": [
        {
          "output_type": "execute_result",
          "data": {
            "text/plain": [
              "array([[ 1.    , -1.    ,  1.    , -1.    ,  1.    ],\n",
              "       [ 0.    ,  0.    ,  0.    ,  0.    ,  1.    ],\n",
              "       [ 0.0625,  0.125 ,  0.25  ,  0.5   ,  1.    ],\n",
              "       [ 1.    ,  1.    ,  1.    ,  1.    ,  1.    ]])"
            ]
          },
          "metadata": {},
          "execution_count": 54
        }
      ]
    },
    {
      "cell_type": "code",
      "metadata": {
        "id": "fL-iIUmJdSh1",
        "colab": {
          "base_uri": "https://localhost:8080/"
        },
        "outputId": "1b4cc1a3-99f2-4884-cee6-e62f50328a5a"
      },
      "source": [
        "#credits wolfram:\n",
        "#Vandermonde matrices are:\n",
        "#\"a type of matrix that arises in the polynomial least squares fitting, \n",
        "#Lagrange interpolating polynomials (Hoffman and Kunze p. 114), \n",
        "#and the reconstruction of a statistical distribution from the \n",
        "#distribution's moments [mean, variance, skewness, kurtosis (sharpness)]\"\n",
        "def vander(t,n):\n",
        "    m = len(t)\n",
        "    V = np.zeros((m,n))\n",
        "    for i in range(m):\n",
        "        for j in range(n):\n",
        "            V[i,j] = t[i]**(j)\n",
        "    return V\n",
        "\n",
        "#ie: \n",
        "# vander = lambda t,n : np.matrix([[i**(j) for i in t] for j in range(n)]).transpose()\n",
        "#or\n",
        "# vander = lambda t,n : np.vstack([np.array(t)**i for i in range(n)]).transpose()\n",
        "vander([-1,-0,0.5,1],5)"
      ],
      "execution_count": 55,
      "outputs": [
        {
          "output_type": "execute_result",
          "data": {
            "text/plain": [
              "array([[ 1.    , -1.    ,  1.    , -1.    ,  1.    ],\n",
              "       [ 1.    ,  0.    ,  0.    ,  0.    ,  0.    ],\n",
              "       [ 1.    ,  0.5   ,  0.25  ,  0.125 ,  0.0625],\n",
              "       [ 1.    ,  1.    ,  1.    ,  1.    ,  1.    ]])"
            ]
          },
          "metadata": {},
          "execution_count": 55
        }
      ]
    },
    {
      "cell_type": "markdown",
      "metadata": {
        "id": "TbFguEbCdSh2"
      },
      "source": [
        "# 6.5 Complexity"
      ]
    },
    {
      "cell_type": "code",
      "metadata": {
        "id": "92xD6HDsdSh2",
        "colab": {
          "base_uri": "https://localhost:8080/"
        },
        "outputId": "4e0db662-be49-445c-d91c-6037e6759aa0"
      },
      "source": [
        "A,x = np.random.rand(1000,10000), np.random.rand(10000)\n",
        "%timeit y=np.matmul(A,x)"
      ],
      "execution_count": 56,
      "outputs": [
        {
          "output_type": "stream",
          "name": "stdout",
          "text": [
            "100 loops, best of 5: 4.85 ms per loop\n"
          ]
        }
      ]
    },
    {
      "cell_type": "code",
      "metadata": {
        "id": "MwjCZHw6dSh2",
        "colab": {
          "base_uri": "https://localhost:8080/"
        },
        "outputId": "214d4352-e884-4a10-e282-6007d7796c17"
      },
      "source": [
        "%timeit y=np.matmul(A,x)"
      ],
      "execution_count": 57,
      "outputs": [
        {
          "output_type": "stream",
          "name": "stdout",
          "text": [
            "100 loops, best of 5: 4.89 ms per loop\n"
          ]
        }
      ]
    },
    {
      "cell_type": "code",
      "metadata": {
        "id": "QllY2M7BdSh2",
        "colab": {
          "base_uri": "https://localhost:8080/"
        },
        "outputId": "03007b5c-fb89-4bac-fcbf-07ef5f4f427f"
      },
      "source": [
        "A,x = np.random.rand(5000,20000), np.random.rand(20000)\n",
        "%timeit y=np.matmul(A,x)"
      ],
      "execution_count": 58,
      "outputs": [
        {
          "output_type": "stream",
          "name": "stdout",
          "text": [
            "10 loops, best of 5: 59.9 ms per loop\n"
          ]
        }
      ]
    },
    {
      "cell_type": "code",
      "metadata": {
        "id": "o-IwOEaAdSh2",
        "colab": {
          "base_uri": "https://localhost:8080/"
        },
        "outputId": "c2d0ef23-e602-4e8a-ed14-41b80e44b2a8"
      },
      "source": [
        "%timeit y=np.matmul(A,x)"
      ],
      "execution_count": 59,
      "outputs": [
        {
          "output_type": "stream",
          "name": "stdout",
          "text": [
            "10 loops, best of 5: 60.6 ms per loop\n"
          ]
        }
      ]
    },
    {
      "cell_type": "markdown",
      "metadata": {
        "id": "PxuROTgmdSh2"
      },
      "source": [
        "#### Complexity of multiplying m x n matrix with an n vector is linear with both m and n, we see a factor of 10 time increase given a factor of 5 and 2 for m and n increasing."
      ]
    }
  ]
}