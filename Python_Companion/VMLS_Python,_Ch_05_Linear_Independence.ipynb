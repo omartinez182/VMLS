{
  "nbformat": 4,
  "nbformat_minor": 0,
  "metadata": {
    "kernelspec": {
      "display_name": "Python 3",
      "language": "python",
      "name": "python3"
    },
    "language_info": {
      "codemirror_mode": {
        "name": "ipython",
        "version": 3
      },
      "file_extension": ".py",
      "mimetype": "text/x-python",
      "name": "python",
      "nbconvert_exporter": "python",
      "pygments_lexer": "ipython3",
      "version": "3.7.4"
    },
    "colab": {
      "name": "VMLS Python, Ch.05 Linear Independence.ipynb",
      "provenance": [],
      "collapsed_sections": [],
      "include_colab_link": true
    }
  },
  "cells": [
    {
      "cell_type": "markdown",
      "metadata": {
        "id": "view-in-github",
        "colab_type": "text"
      },
      "source": [
        "<a href=\"https://colab.research.google.com/github/omartinez182/VMLS/blob/main/Python_Companion/VMLS_Python%2C_Ch_05_Linear_Independence.ipynb\" target=\"_parent\"><img src=\"https://colab.research.google.com/assets/colab-badge.svg\" alt=\"Open In Colab\"/></a>"
      ]
    },
    {
      "cell_type": "code",
      "metadata": {
        "id": "wA3QGUiLklos"
      },
      "source": [
        "import math\n",
        "import numpy as np\n",
        "import numpy.linalg as npl\n",
        "import matplotlib.pyplot as plt"
      ],
      "execution_count": 4,
      "outputs": []
    },
    {
      "cell_type": "markdown",
      "metadata": {
        "id": "tTSbhyHNklov"
      },
      "source": [
        "# 5.1,2 Linear Independence, Basis"
      ]
    },
    {
      "cell_type": "code",
      "metadata": {
        "id": "bfUvPJ-Pklov",
        "colab": {
          "base_uri": "https://localhost:8080/"
        },
        "outputId": "1b1e22ab-c8f0-4d63-b708-b45fd08ae023"
      },
      "source": [
        "#Cash Flows Ex\n",
        "r = .05 #interest\n",
        "e1 = np.array([1,0,0]) #initial payment\n",
        "l1 = np.array([1,-(1+r),0]) #first loan: t0: $1, t1: paid back with interest\n",
        "l2 = np.array([0,1,-(1+r)]) #second loan: t1: $1, t2: paid back with interest\n",
        "c = [1,2,-3] #cash flow\n",
        "#Expansion coefficients:\n",
        "alpha3 = -c[2]/(1+r)\n",
        "alpha2 = -c[1]/(1+r) - c[2]/(1+r)**2\n",
        "alpha1 = c[0] + c[1]/(1+r) + c[2]/(1+r)**2 #NPV\n",
        "e1, l1, l2, alpha1, alpha2, alpha3"
      ],
      "execution_count": 3,
      "outputs": [
        {
          "output_type": "execute_result",
          "data": {
            "text/plain": [
              "(array([1, 0, 0]),\n",
              " array([ 1.  , -1.05,  0.  ]),\n",
              " array([ 0.  ,  1.  , -1.05]),\n",
              " 0.18367346938775508,\n",
              " 0.8163265306122449,\n",
              " 2.857142857142857)"
            ]
          },
          "metadata": {
            "tags": []
          },
          "execution_count": 3
        }
      ]
    },
    {
      "cell_type": "code",
      "metadata": {
        "colab": {
          "base_uri": "https://localhost:8080/"
        },
        "id": "GhWl0vE_mHcw",
        "outputId": "bbbb8406-9ffc-414b-ad6f-eae48bedac5d"
      },
      "source": [
        "alpha1*e1 + alpha2 * l1 + alpha3*l2, c"
      ],
      "execution_count": 4,
      "outputs": [
        {
          "output_type": "execute_result",
          "data": {
            "text/plain": [
              "(array([ 1.,  2., -3.]), [1, 2, -3])"
            ]
          },
          "metadata": {
            "tags": []
          },
          "execution_count": 4
        }
      ]
    },
    {
      "cell_type": "markdown",
      "metadata": {
        "id": "N18nNCA4kloy"
      },
      "source": [
        "# 5.3 Orthonormal Vectors"
      ]
    },
    {
      "cell_type": "code",
      "metadata": {
        "id": "66J_Q4-Jkloy",
        "colab": {
          "base_uri": "https://localhost:8080/"
        },
        "outputId": "f4c69ec3-f6bf-4a7e-bb6c-de22086996ae"
      },
      "source": [
        "a1,a2,a3 = np.array([0,0,-1]),np.array([1,1,0])/math.sqrt(2), np.array([1,-1,0])/math.sqrt(2)\n",
        "npl.norm(a1),npl.norm(a2),npl.norm(a3), np.inner(a1,a2),np.inner(a1,a3),np.inner(a2,a3)"
      ],
      "execution_count": 5,
      "outputs": [
        {
          "output_type": "execute_result",
          "data": {
            "text/plain": [
              "(1.0,\n",
              " 0.9999999999999999,\n",
              " 0.9999999999999999,\n",
              " 0.0,\n",
              " 0.0,\n",
              " -2.2371143170757382e-17)"
            ]
          },
          "metadata": {
            "tags": []
          },
          "execution_count": 5
        }
      ]
    },
    {
      "cell_type": "code",
      "metadata": {
        "id": "h2O-T3BGkloz",
        "colab": {
          "base_uri": "https://localhost:8080/"
        },
        "outputId": "169dcc92-24eb-4a1d-f2ca-9df08f441c5f"
      },
      "source": [
        "x = [1,2,3]\n",
        "beta1,beta2,beta3 = np.inner(a1,x),np.inner(a2,x),np.inner(a3,x)\n",
        "xexp = beta1*a1 + beta2*a2 + beta3*a3\n",
        "beta1,beta2,beta3, xexp, x #expansion of x in basis unchanged "
      ],
      "execution_count": 6,
      "outputs": [
        {
          "output_type": "execute_result",
          "data": {
            "text/plain": [
              "(-3, 2.1213203435596424, -0.7071067811865475, array([1., 2., 3.]), [1, 2, 3])"
            ]
          },
          "metadata": {
            "tags": []
          },
          "execution_count": 6
        }
      ]
    },
    {
      "cell_type": "markdown",
      "metadata": {
        "id": "X41c8uBGklo0"
      },
      "source": [
        "# 5.4 Gram-Schmidt"
      ]
    },
    {
      "cell_type": "code",
      "metadata": {
        "id": "5Z2D7aiyklo6"
      },
      "source": [
        "def gram_schmidt(a, tol=1e-10):\n",
        "  q = []\n",
        "  for i in range(len(a)):\n",
        "    q_hat = a[i]\n",
        "    for j in range(i):\n",
        "      q_hat = q_hat - np.inner(q[j],a[i])*q[j]\n",
        "    if npl.norm(q_hat) < tol:\n",
        "      print(\"Vectors are linearly dependent\")\n",
        "    q.append(q_hat/npl.norm(q_hat))\n",
        "  return q"
      ],
      "execution_count": 36,
      "outputs": []
    },
    {
      "cell_type": "code",
      "metadata": {
        "id": "71OKtvhTFmWe"
      },
      "source": [
        "a = np.array([[-1,1,-1,1],[-1,3,-1,3],[1,3,5,7]])"
      ],
      "execution_count": 37,
      "outputs": []
    },
    {
      "cell_type": "code",
      "metadata": {
        "id": "t2GWM_kpklo3",
        "colab": {
          "base_uri": "https://localhost:8080/"
        },
        "outputId": "1b4c7743-b0ab-4d84-c373-c73350ca2cc4"
      },
      "source": [
        "q = gram_schmidt(a)\n",
        "q, npl.norm(q[0]), np.inner(q[0],q[1]),np.inner(q[0],q[2]),npl.norm(q[2]), np.inner(q[1],q[2]), npl.norm(q[2])"
      ],
      "execution_count": 38,
      "outputs": [
        {
          "output_type": "execute_result",
          "data": {
            "text/plain": [
              "([array([-0.5,  0.5, -0.5,  0.5]),\n",
              "  array([0.5, 0.5, 0.5, 0.5]),\n",
              "  array([-0.5, -0.5,  0.5,  0.5])],\n",
              " 1.0,\n",
              " 0.0,\n",
              " 0.0,\n",
              " 1.0,\n",
              " 0.0,\n",
              " 1.0)"
            ]
          },
          "metadata": {
            "tags": []
          },
          "execution_count": 38
        }
      ]
    },
    {
      "cell_type": "code",
      "metadata": {
        "id": "prKI-NOgklo5",
        "colab": {
          "base_uri": "https://localhost:8080/"
        },
        "outputId": "e1bf9478-f861-4da0-9f10-e26f6bda4df0"
      },
      "source": [
        "#Linear dependence via linear combination of a0 and a1\n",
        "b = [a[0],a[1],1.3*a[0] + .5*a[1]]\n",
        "gram_schmidt(b), b"
      ],
      "execution_count": 43,
      "outputs": [
        {
          "output_type": "stream",
          "text": [
            "Vectors are linearly dependent\n"
          ],
          "name": "stdout"
        },
        {
          "output_type": "execute_result",
          "data": {
            "text/plain": [
              "([array([-0.5,  0.5, -0.5,  0.5]),\n",
              "  array([0.5, 0.5, 0.5, 0.5]),\n",
              "  array([-0.5,  0.5, -0.5,  0.5])],\n",
              " [array([-1,  1, -1,  1]),\n",
              "  array([-1,  3, -1,  3]),\n",
              "  array([-1.8,  2.8, -1.8,  2.8])])"
            ]
          },
          "metadata": {
            "tags": []
          },
          "execution_count": 43
        }
      ]
    },
    {
      "cell_type": "code",
      "metadata": {
        "id": "4ih5ZGxKklo6",
        "colab": {
          "base_uri": "https://localhost:8080/"
        },
        "outputId": "6387817a-4e6c-4e5b-d54f-4358de5f4a81"
      },
      "source": [
        "#Linear dependence via linear combination of three 2-vecs\n",
        "three_two_vecs = np.array([[1,1],[1,2],[-1,1]])\n",
        "gram_schmidt(three_two_vecs)"
      ],
      "execution_count": 45,
      "outputs": [
        {
          "output_type": "stream",
          "text": [
            "Vectors are linearly dependent\n"
          ],
          "name": "stdout"
        },
        {
          "output_type": "execute_result",
          "data": {
            "text/plain": [
              "[array([0.70710678, 0.70710678]),\n",
              " array([-0.70710678,  0.70710678]),\n",
              " array([-0.9486833 , -0.31622777])]"
            ]
          },
          "metadata": {
            "tags": []
          },
          "execution_count": 45
        }
      ]
    }
  ]
}