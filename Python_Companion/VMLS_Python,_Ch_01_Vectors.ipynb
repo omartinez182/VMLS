{
  "nbformat": 4,
  "nbformat_minor": 0,
  "metadata": {
    "kernelspec": {
      "display_name": "Python 3",
      "language": "python",
      "name": "python3"
    },
    "language_info": {
      "codemirror_mode": {
        "name": "ipython",
        "version": 3
      },
      "file_extension": ".py",
      "mimetype": "text/x-python",
      "name": "python",
      "nbconvert_exporter": "python",
      "pygments_lexer": "ipython3",
      "version": "3.7.4"
    },
    "colab": {
      "name": "VMLS Python, Ch.01 Vectors.ipynb",
      "provenance": [],
      "collapsed_sections": [
        "NwJAN4uQAZpa",
        "xINlfNF6AZpx",
        "mcCqUI6KAZp4"
      ],
      "include_colab_link": true
    }
  },
  "cells": [
    {
      "cell_type": "markdown",
      "metadata": {
        "id": "view-in-github",
        "colab_type": "text"
      },
      "source": [
        "<a href=\"https://colab.research.google.com/github/omartinez182/VMLS/blob/main/Python_Companion/VMLS_Python%2C_Ch_01_Vectors.ipynb\" target=\"_parent\"><img src=\"https://colab.research.google.com/assets/colab-badge.svg\" alt=\"Open In Colab\"/></a>"
      ]
    },
    {
      "cell_type": "code",
      "metadata": {
        "id": "QjfcalQJAZpV"
      },
      "source": [
        "#NumPy, Matplotlib, and other packages are throughout these notebooks\n",
        "# to fulfill Julia built-in features (array casting, sparse vectors) \n",
        "#and VMLS companion package imports (e.g. Plot)\n",
        "import numpy as np"
      ],
      "execution_count": 1,
      "outputs": []
    },
    {
      "cell_type": "markdown",
      "metadata": {
        "id": "NwJAN4uQAZpa"
      },
      "source": [
        "# 1.1 Vectors\n",
        "Vectors are represented as one-dimensional Array objects, and assigned with '='"
      ]
    },
    {
      "cell_type": "code",
      "metadata": {
        "id": "ArJOlKl2AZpa",
        "colab": {
          "base_uri": "https://localhost:8080/"
        },
        "outputId": "4b17e489-3d1b-4c67-f46a-7fcbd3e0066d"
      },
      "source": [
        "x = np.array([-1.1,0.0,3.6,-7.2])\n",
        "y = np.array([-1.1,0.0,3.6,-7.2])\n",
        "x,y, len(x), len(y)"
      ],
      "execution_count": null,
      "outputs": [
        {
          "output_type": "execute_result",
          "data": {
            "text/plain": [
              "(array([-1.1,  0. ,  3.6, -7.2]), array([-1.1,  0. ,  3.6, -7.2]), 4, 4)"
            ]
          },
          "metadata": {
            "tags": []
          },
          "execution_count": 3
        }
      ]
    },
    {
      "cell_type": "code",
      "metadata": {
        "id": "JT3vrBPDAZpc",
        "colab": {
          "base_uri": "https://localhost:8080/"
        },
        "outputId": "a6ca1741-5e63-4f71-a1a0-91dfd06b5747"
      },
      "source": [
        "a = np.array([1,2])\n",
        "b = (1,2)\n",
        "a,b #a is a vector, b is a tuple of scalars "
      ],
      "execution_count": null,
      "outputs": [
        {
          "output_type": "execute_result",
          "data": {
            "text/plain": [
              "(array([1, 2]), (1, 2))"
            ]
          },
          "metadata": {
            "tags": []
          },
          "execution_count": 5
        }
      ]
    },
    {
      "cell_type": "markdown",
      "metadata": {
        "id": "SLwDP7DfAZpd"
      },
      "source": [
        "#### Indexing"
      ]
    },
    {
      "cell_type": "code",
      "metadata": {
        "id": "qXDDcft7AZpd",
        "colab": {
          "base_uri": "https://localhost:8080/"
        },
        "outputId": "541b537e-5dbe-4e49-db0d-fa1cd58ee01b"
      },
      "source": [
        "x[3], x[2] #Julia is 1-indexed, Python is 0-indexed"
      ],
      "execution_count": null,
      "outputs": [
        {
          "output_type": "execute_result",
          "data": {
            "text/plain": [
              "(-7.2, 4.0)"
            ]
          },
          "metadata": {
            "tags": []
          },
          "execution_count": 8
        }
      ]
    },
    {
      "cell_type": "code",
      "metadata": {
        "id": "tBx3S7d7AZpf",
        "colab": {
          "base_uri": "https://localhost:8080/"
        },
        "outputId": "fe186339-31a4-40f7-903e-bc710aa3a1c1"
      },
      "source": [
        "x[2] = 4.0\n",
        "x"
      ],
      "execution_count": null,
      "outputs": [
        {
          "output_type": "execute_result",
          "data": {
            "text/plain": [
              "array([-1.1,  0. ,  4. , -7.2])"
            ]
          },
          "metadata": {
            "tags": []
          },
          "execution_count": 9
        }
      ]
    },
    {
      "cell_type": "markdown",
      "metadata": {
        "id": "EJkeBpuvAZpf"
      },
      "source": [
        "#### Assignment versus Copying"
      ]
    },
    {
      "cell_type": "code",
      "metadata": {
        "id": "3CGM0-zWAZpj",
        "colab": {
          "base_uri": "https://localhost:8080/"
        },
        "outputId": "20e0ad72-ecee-459d-9050-7f84497bdeeb"
      },
      "source": [
        "y = x\n",
        "x[3] = 4.0\n",
        "y"
      ],
      "execution_count": null,
      "outputs": [
        {
          "output_type": "execute_result",
          "data": {
            "text/plain": [
              "array([-1.1,  0. ,  4. ,  4. ])"
            ]
          },
          "metadata": {
            "tags": []
          },
          "execution_count": 10
        }
      ]
    },
    {
      "cell_type": "code",
      "metadata": {
        "id": "IDm_entGAZpk",
        "colab": {
          "base_uri": "https://localhost:8080/"
        },
        "outputId": "052af053-7f69-4fb4-9f78-1b2ada229484"
      },
      "source": [
        "y[1] = 2.0\n",
        "x #Same as in Julia, and different from MatLab/Octave: \n",
        "  #assigning an array to another doesn't make a new copy of the values\n",
        "  #it just createss a new reference to the same values"
      ],
      "execution_count": null,
      "outputs": [
        {
          "output_type": "execute_result",
          "data": {
            "text/plain": [
              "array([-1.1,  2. ,  4. ,  4. ])"
            ]
          },
          "metadata": {
            "tags": []
          },
          "execution_count": 18
        }
      ]
    },
    {
      "cell_type": "code",
      "metadata": {
        "id": "6faBwgjrAZpk",
        "colab": {
          "base_uri": "https://localhost:8080/"
        },
        "outputId": "38ad7a43-0476-4ecc-87fc-d82d37214be4"
      },
      "source": [
        "x = np.array([-1.1,0.0,3.6,-7.2])\n",
        "y = x.copy() #equivalent to copy(x) in Julia, \n",
        "             #resolves the new reference topic from above\n",
        "x[2] = 4.0\n",
        "y[0] = 2.0\n",
        "x,y"
      ],
      "execution_count": null,
      "outputs": [
        {
          "output_type": "execute_result",
          "data": {
            "text/plain": [
              "(array([-1.1,  0. ,  4. , -7.2]), array([ 2. ,  0. ,  3.6, -7.2]))"
            ]
          },
          "metadata": {
            "tags": []
          },
          "execution_count": 20
        }
      ]
    },
    {
      "cell_type": "code",
      "metadata": {
        "id": "jl-yzICYAZpl",
        "colab": {
          "base_uri": "https://localhost:8080/"
        },
        "outputId": "07fbaaf9-5cc4-46e3-cee3-2abb8d499dca"
      },
      "source": [
        "x = np.array([-1.1,0.0,3.6,-7.2])\n",
        "y = x.copy()\n",
        "y[2] = 4.0\n",
        "# y==x #relational operators in Julia check the entire vector to determine a single boolean expression\n",
        "       #relational operators in Python check each individual vector value\n",
        "z=x.copy()\n",
        "z[1] = 4.0\n",
        "x[1] = 4.0\n",
        "y == x, z == x"
      ],
      "execution_count": null,
      "outputs": [
        {
          "output_type": "execute_result",
          "data": {
            "text/plain": [
              "(array([ True, False, False,  True]), array([ True,  True,  True,  True]))"
            ]
          },
          "metadata": {
            "tags": []
          },
          "execution_count": 22
        }
      ]
    },
    {
      "cell_type": "code",
      "metadata": {
        "id": "XK6feJHaAZpn",
        "colab": {
          "base_uri": "https://localhost:8080/"
        },
        "outputId": "acc3b122-995c-49ac-bc2e-33b23dda7e5d"
      },
      "source": [
        "x = np.array([1.3])\n",
        "y = 1.3\n",
        "x,y, x==y, x[0]==y, type(x)==type(y)\n",
        "#Different from Julia: the third result would be false \n",
        "#because they're different types (array and int), just like the 5th result\n",
        "#the fourth result is the same, barring 0,1 indexing differences"
      ],
      "execution_count": null,
      "outputs": [
        {
          "output_type": "execute_result",
          "data": {
            "text/plain": [
              "(array([1.3]), 1.3, array([ True]), True, False)"
            ]
          },
          "metadata": {
            "tags": []
          },
          "execution_count": 31
        }
      ]
    },
    {
      "cell_type": "markdown",
      "metadata": {
        "id": "m1CBEexQAZpo"
      },
      "source": [
        "#### Block or Stacked Vectors"
      ]
    },
    {
      "cell_type": "code",
      "metadata": {
        "id": "MZPEtTKAAZpo",
        "colab": {
          "base_uri": "https://localhost:8080/"
        },
        "outputId": "51a7e920-7917-4aea-8803-e6ed14e34474"
      },
      "source": [
        "#In Julia you concatenate vectors using semicolon or vcat: [x;y] or vcat(x,y)\n",
        "#In Python you can use:\n",
        "x = np.array([1,-2]); y = np.array([1,1,0]);\n",
        "z = np.concatenate((x,y))\n",
        "z"
      ],
      "execution_count": null,
      "outputs": [
        {
          "output_type": "execute_result",
          "data": {
            "text/plain": [
              "array([ 1, -2,  1,  1,  0])"
            ]
          },
          "metadata": {
            "tags": []
          },
          "execution_count": 34
        }
      ]
    },
    {
      "cell_type": "markdown",
      "metadata": {
        "id": "Zz51eb42AZpp"
      },
      "source": [
        "#### Subvectors and Slicing"
      ]
    },
    {
      "cell_type": "code",
      "metadata": {
        "id": "SuFZgX1BAZpp",
        "colab": {
          "base_uri": "https://localhost:8080/"
        },
        "outputId": "ed7dd2d0-eb3c-4a6b-8d89-d268ab8fa91d"
      },
      "source": [
        "x = np.array([9,4,3,0,5,1,3,4,0,3,5,6,8])\n",
        "y = x[1:4] #slicing in python is [inclusive:exclusive], in julia: [inclusive:inclusive]\n",
        "y"
      ],
      "execution_count": null,
      "outputs": [
        {
          "output_type": "execute_result",
          "data": {
            "text/plain": [
              "array([4, 3, 0])"
            ]
          },
          "metadata": {
            "tags": []
          },
          "execution_count": 57
        }
      ]
    },
    {
      "cell_type": "code",
      "metadata": {
        "id": "vCCjVrvZAZpq",
        "colab": {
          "base_uri": "https://localhost:8080/"
        },
        "outputId": "a9e496dc-d6a9-414b-eb84-b207fe1ecf0f"
      },
      "source": [
        "x[3:5] = [-2,-3] #would be x[4:5] in Julia\n",
        "                 #as though Julia says: items i through j; Python says: from item i to item j\n",
        "x"
      ],
      "execution_count": null,
      "outputs": [
        {
          "output_type": "execute_result",
          "data": {
            "text/plain": [
              "array([ 9,  4,  3, -2, -3,  1,  3,  4,  0,  3,  5,  6,  8])"
            ]
          },
          "metadata": {
            "tags": []
          },
          "execution_count": 58
        }
      ]
    },
    {
      "cell_type": "code",
      "metadata": {
        "id": "caKNb8WOAZpq",
        "colab": {
          "base_uri": "https://localhost:8080/"
        },
        "outputId": "cbf578f2-bfb6-441b-94ae-0ee3893d62f0"
      },
      "source": [
        "#In Julia a reverse slice is: [end:-1:1] ie [start:increment:end]\n",
        "#In Python a reverse slice is: [::-1] ie [start:end:increment]\n",
        "x,x[2:0:-1] #would be: x[3:-1:2]"
      ],
      "execution_count": null,
      "outputs": [
        {
          "output_type": "execute_result",
          "data": {
            "text/plain": [
              "(array([ 9,  4,  3, -2, -3,  1,  3,  4,  0,  3,  5,  6,  8]), array([3, 4]))"
            ]
          },
          "metadata": {
            "tags": []
          },
          "execution_count": 65
        }
      ]
    },
    {
      "cell_type": "markdown",
      "metadata": {
        "id": "rzA3Vf-gAZpr"
      },
      "source": [
        "#### Vector of First Differences"
      ]
    },
    {
      "cell_type": "code",
      "metadata": {
        "id": "FiN0vV2MAZpr",
        "colab": {
          "base_uri": "https://localhost:8080/"
        },
        "outputId": "54b92e2e-d9d7-48cd-db9d-91a73ca2f4e4"
      },
      "source": [
        "#Julia successively compiles an array when running:\n",
        "#x = [1,0,0,-2,2]\n",
        "#d = x[2:end] - x[1:end-1]; which gives the vector of differences \n",
        "#But in python you have to run a list comprehension:\n",
        "x = np.array([1,0,0,-2,2])\n",
        "x, np.array([x[i+1]-x[i] for i in range(len(x)-1)])"
      ],
      "execution_count": null,
      "outputs": [
        {
          "output_type": "execute_result",
          "data": {
            "text/plain": [
              "(array([ 1,  0,  0, -2,  2]), array([-1,  0, -2,  4]))"
            ]
          },
          "metadata": {
            "tags": []
          },
          "execution_count": 71
        }
      ]
    },
    {
      "cell_type": "code",
      "metadata": {
        "id": "fYQrpxngAZpr",
        "colab": {
          "base_uri": "https://localhost:8080/"
        },
        "outputId": "28d1e70e-8b71-4861-eabf-406b04bdde4d"
      },
      "source": [
        "x = np.array([1.0,0]); y = ([1.0,-1.0]); z = ([0,1.0])  #tuple and list differences are the same\n",
        "lst0 = np.array([x,y,z])\n",
        "lst1 = (x,y,z)\n",
        "lst0, lst1, lst0[1], lst1[1], lst0[1] == lst1[1]"
      ],
      "execution_count": null,
      "outputs": [
        {
          "output_type": "execute_result",
          "data": {
            "text/plain": [
              "(array([[ 1.,  0.],\n",
              "        [ 1., -1.],\n",
              "        [ 0.,  1.]]),\n",
              " (array([1., 0.]), [1.0, -1.0], [0, 1.0]),\n",
              " array([ 1., -1.]),\n",
              " [1.0, -1.0],\n",
              " array([ True,  True]))"
            ]
          },
          "metadata": {
            "tags": []
          },
          "execution_count": 80
        }
      ]
    },
    {
      "cell_type": "markdown",
      "metadata": {
        "id": "oFXSktb9AZpr"
      },
      "source": [
        "#### Zero Vectors, Unit Vectors, Ones Vector, Random Vector"
      ]
    },
    {
      "cell_type": "code",
      "metadata": {
        "id": "n6UP1seXAZps",
        "colab": {
          "base_uri": "https://localhost:8080/"
        },
        "outputId": "bffde624-d906-4220-b8d5-89010a73f3d0"
      },
      "source": [
        "np.zeros(3) #In Julia you can use \"zeros(3)\""
      ],
      "execution_count": null,
      "outputs": [
        {
          "output_type": "execute_result",
          "data": {
            "text/plain": [
              "array([0., 0., 0.])"
            ]
          },
          "metadata": {
            "tags": []
          },
          "execution_count": 82
        }
      ]
    },
    {
      "cell_type": "code",
      "metadata": {
        "id": "vHiWFFsuAZps",
        "colab": {
          "base_uri": "https://localhost:8080/"
        },
        "outputId": "aa006c9d-8a31-40c0-f9f1-fe7acb143fdb"
      },
      "source": [
        "i = 1; n =3\n",
        "ei = np.zeros(n)\n",
        "ei[i] = 1\n",
        "ei"
      ],
      "execution_count": null,
      "outputs": [
        {
          "output_type": "execute_result",
          "data": {
            "text/plain": [
              "array([0., 1., 0.])"
            ]
          },
          "metadata": {
            "tags": []
          },
          "execution_count": 85
        }
      ]
    },
    {
      "cell_type": "code",
      "metadata": {
        "id": "YMI4PH3FAZpt",
        "colab": {
          "base_uri": "https://localhost:8080/"
        },
        "outputId": "5102a230-6da3-485a-e9b4-ab2b9aab58f8"
      },
      "source": [
        "#inline function to make ei^ in Julia: \n",
        "#Unit_vector(i,n) = [zeros(i-1);1;zeros(n-i)]\n",
        "#inline function to make ei^ in Python:\n",
        "def unit_vector(i,n): return np.concatenate((np.zeros(i),[1],np.zeros(n-i)))\n",
        "unit_vector(i,n)\n",
        "#concatenation is slightly different in that you use np.concatenate and numpy requires explicitly same types to concatenate whereas Julia assumes this "
      ],
      "execution_count": null,
      "outputs": [
        {
          "output_type": "execute_result",
          "data": {
            "text/plain": [
              "array([0., 1., 0., 0.])"
            ]
          },
          "metadata": {
            "tags": []
          },
          "execution_count": 87
        }
      ]
    },
    {
      "cell_type": "code",
      "metadata": {
        "id": "znEwvDfAAZpt",
        "colab": {
          "base_uri": "https://localhost:8080/"
        },
        "outputId": "51dacca9-e370-48bf-b129-36da171b7148"
      },
      "source": [
        "np.ones(2) #equiv to ones(2)"
      ],
      "execution_count": null,
      "outputs": [
        {
          "output_type": "execute_result",
          "data": {
            "text/plain": [
              "array([1., 1.])"
            ]
          },
          "metadata": {
            "tags": []
          },
          "execution_count": 89
        }
      ]
    },
    {
      "cell_type": "code",
      "metadata": {
        "id": "yQcQ_LQQAZpw",
        "colab": {
          "base_uri": "https://localhost:8080/"
        },
        "outputId": "ff12bb49-5520-4674-9048-ffb51965576d"
      },
      "source": [
        "np.random.randn(2) #equiv to rand(2)"
      ],
      "execution_count": null,
      "outputs": [
        {
          "output_type": "execute_result",
          "data": {
            "text/plain": [
              "array([ 0.94517244, -0.24342746])"
            ]
          },
          "metadata": {
            "tags": []
          },
          "execution_count": 103
        }
      ]
    },
    {
      "cell_type": "code",
      "metadata": {
        "id": "Br26vqw9AZpw",
        "colab": {
          "base_uri": "https://localhost:8080/"
        },
        "outputId": "d7617c85-5cf2-471a-f14b-3a96c2f2e895"
      },
      "source": [
        "temps = [np.random.randint(60,80) for i in range(40)]\n",
        "temps"
      ],
      "execution_count": null,
      "outputs": [
        {
          "output_type": "execute_result",
          "data": {
            "text/plain": [
              "[69,\n",
              " 72,\n",
              " 71,\n",
              " 77,\n",
              " 79,\n",
              " 63,\n",
              " 74,\n",
              " 65,\n",
              " 72,\n",
              " 67,\n",
              " 75,\n",
              " 74,\n",
              " 71,\n",
              " 65,\n",
              " 64,\n",
              " 79,\n",
              " 63,\n",
              " 78,\n",
              " 70,\n",
              " 72,\n",
              " 69,\n",
              " 65,\n",
              " 71,\n",
              " 76,\n",
              " 64,\n",
              " 67,\n",
              " 65,\n",
              " 63,\n",
              " 77,\n",
              " 73,\n",
              " 66,\n",
              " 67,\n",
              " 60,\n",
              " 62,\n",
              " 66,\n",
              " 76,\n",
              " 76,\n",
              " 66,\n",
              " 63,\n",
              " 68]"
            ]
          },
          "metadata": {
            "tags": []
          },
          "execution_count": 104
        }
      ]
    },
    {
      "cell_type": "markdown",
      "metadata": {
        "id": "392pWePRAZpw"
      },
      "source": [
        "#### Plotting"
      ]
    },
    {
      "cell_type": "code",
      "metadata": {
        "id": "oJ4XkpiuAZpx"
      },
      "source": [
        "import matplotlib.pyplot as plt\n",
        "#in Julia you enter: ']', add [package name], ctrl+c (exit), use [package name]"
      ],
      "execution_count": 2,
      "outputs": []
    },
    {
      "cell_type": "code",
      "metadata": {
        "id": "kBw7Dn3gAZpx",
        "colab": {
          "base_uri": "https://localhost:8080/",
          "height": 265
        },
        "outputId": "b9ed3d1e-1681-4616-a69d-21b3474b8f60"
      },
      "source": [
        "plt.plot(temps)\n",
        "plt.savefig('temps.png')\n",
        "#in Julia you use plot(temps) and savefig(\"temperature.pdf\")"
      ],
      "execution_count": null,
      "outputs": [
        {
          "output_type": "display_data",
          "data": {
            "image/png": "[encoded data removed]",
            "text/plain": [
              "<Figure size 432x288 with 1 Axes>"
            ]
          },
          "metadata": {
            "tags": [],
            "needs_background": "light"
          }
        }
      ]
    },
    {
      "cell_type": "code",
      "metadata": {
        "colab": {
          "base_uri": "https://localhost:8080/"
        },
        "id": "VFTfq70gLIl4",
        "outputId": "60e99605-05e0-4df3-f426-38e0f2c69549"
      },
      "source": [
        "v = np.array([1, 2, 3])\n",
        "vT = [[1],\n",
        "      [2],\n",
        "      [3]]\n",
        "vT*v, np.dot(v,v.T)"
      ],
      "execution_count": null,
      "outputs": [
        {
          "output_type": "execute_result",
          "data": {
            "text/plain": [
              "(array([[1, 2, 3],\n",
              "        [2, 4, 6],\n",
              "        [3, 6, 9]]), 14)"
            ]
          },
          "metadata": {
            "tags": []
          },
          "execution_count": 131
        }
      ]
    },
    {
      "cell_type": "markdown",
      "metadata": {
        "id": "xINlfNF6AZpx"
      },
      "source": [
        "# 1.2, 1.3 Vector Addition, Scalar-Vector Multiplication & Addition"
      ]
    },
    {
      "cell_type": "code",
      "metadata": {
        "id": "ROS9yM6gAZpy",
        "colab": {
          "base_uri": "https://localhost:8080/"
        },
        "outputId": "adac6a27-80a2-4815-aecd-3847eff703fc"
      },
      "source": [
        "np.array([0,7,3])+np.array([1,2,0]), [0,7,3] + [1,2,0]\n",
        "#In Julia you can use the right result to get the left result"
      ],
      "execution_count": null,
      "outputs": [
        {
          "output_type": "execute_result",
          "data": {
            "text/plain": [
              "(array([1, 9, 3]), [0, 7, 3, 1, 2, 0])"
            ]
          },
          "metadata": {
            "tags": []
          },
          "execution_count": 4
        }
      ]
    },
    {
      "cell_type": "code",
      "metadata": {
        "id": "lhA2D2YNAZpy",
        "colab": {
          "base_uri": "https://localhost:8080/"
        },
        "outputId": "036ebca2-c26c-47db-c636-9d62dee667c6"
      },
      "source": [
        "np.array([1,9]) - np.array([1,1])"
      ],
      "execution_count": null,
      "outputs": [
        {
          "output_type": "execute_result",
          "data": {
            "text/plain": [
              "array([0, 8])"
            ]
          },
          "metadata": {
            "tags": []
          },
          "execution_count": 5
        }
      ]
    },
    {
      "cell_type": "code",
      "metadata": {
        "id": "o1__hFbvAZpy",
        "colab": {
          "base_uri": "https://localhost:8080/"
        },
        "outputId": "2bbec5c0-0c7f-4086-d9d9-1578b18610d2"
      },
      "source": [
        "x = np.array([0,2,-1]) \n",
        "2.2*x"
      ],
      "execution_count": null,
      "outputs": [
        {
          "output_type": "execute_result",
          "data": {
            "text/plain": [
              "array([ 0. ,  4.4, -2.2])"
            ]
          },
          "metadata": {
            "tags": []
          },
          "execution_count": 6
        }
      ]
    },
    {
      "cell_type": "code",
      "metadata": {
        "id": "HNsyaf2-AZpz",
        "colab": {
          "base_uri": "https://localhost:8080/"
        },
        "outputId": "a4fc4729-2047-431d-d653-11452da39597"
      },
      "source": [
        "x/3"
      ],
      "execution_count": null,
      "outputs": [
        {
          "output_type": "execute_result",
          "data": {
            "text/plain": [
              "array([ 0.        ,  0.66666667, -0.33333333])"
            ]
          },
          "metadata": {
            "tags": []
          },
          "execution_count": 7
        }
      ]
    },
    {
      "cell_type": "code",
      "metadata": {
        "id": "PjPzqSQfAZpz",
        "colab": {
          "base_uri": "https://localhost:8080/"
        },
        "outputId": "7a1657f5-94b2-488a-c64e-2044a3053c82"
      },
      "source": [
        "3 / x #In Julia this returns the same as x/3!!"
      ],
      "execution_count": null,
      "outputs": [
        {
          "output_type": "stream",
          "text": [
            "/usr/local/lib/python3.7/dist-packages/ipykernel_launcher.py:1: RuntimeWarning: divide by zero encountered in true_divide\n",
            "  \"\"\"Entry point for launching an IPython kernel.\n"
          ],
          "name": "stderr"
        },
        {
          "output_type": "execute_result",
          "data": {
            "text/plain": [
              "array([ inf,  1.5, -3. ])"
            ]
          },
          "metadata": {
            "tags": []
          },
          "execution_count": 8
        }
      ]
    },
    {
      "cell_type": "code",
      "metadata": {
        "id": "N5Pynpx7AZpz",
        "colab": {
          "base_uri": "https://localhost:8080/"
        },
        "outputId": "c2823b90-88bb-439d-a919-5cbe2b1709bc"
      },
      "source": [
        "np.array([1.1,-3.7,.3]) - 1.4 #In Julia this is .-; just using - returns an Error no method matching -"
      ],
      "execution_count": null,
      "outputs": [
        {
          "output_type": "execute_result",
          "data": {
            "text/plain": [
              "array([-0.3, -5.1, -1.1])"
            ]
          },
          "metadata": {
            "tags": []
          },
          "execution_count": 9
        }
      ]
    },
    {
      "cell_type": "code",
      "metadata": {
        "id": "IR0aAwBiAZpz",
        "colab": {
          "base_uri": "https://localhost:8080/"
        },
        "outputId": "cbc6b795-b54d-41a1-92c1-da6057ca3bd8"
      },
      "source": [
        ".7 + np.array([1,-1])"
      ],
      "execution_count": null,
      "outputs": [
        {
          "output_type": "execute_result",
          "data": {
            "text/plain": [
              "array([ 1.7, -0.3])"
            ]
          },
          "metadata": {
            "tags": []
          },
          "execution_count": 10
        }
      ]
    },
    {
      "cell_type": "markdown",
      "metadata": {
        "id": "dyzAVYG5AZp0"
      },
      "source": [
        "#### Elementwise Operations, Elementwise Operations with a Scalar"
      ]
    },
    {
      "cell_type": "code",
      "metadata": {
        "id": "tQSccANeAZp0",
        "colab": {
          "base_uri": "https://localhost:8080/"
        },
        "outputId": "ff11344f-f791-4d16-8567-51ae1ba17194"
      },
      "source": [
        "# Percentage increase in portfolio\n",
        "p_init = np.array([22.15, 89.32, 56.77])\n",
        "p_fin = np.array([23.05, 87.32, 57.13])\n",
        "r = (p_fin - p_init) / p_init #in Julia you would use ./ to denote elementwise \n",
        "r"
      ],
      "execution_count": null,
      "outputs": [
        {
          "output_type": "execute_result",
          "data": {
            "text/plain": [
              "array([ 0.04063205, -0.0223914 ,  0.00634138])"
            ]
          },
          "metadata": {
            "tags": []
          },
          "execution_count": 15
        }
      ]
    },
    {
      "cell_type": "code",
      "metadata": {
        "id": "WHOe743pAZp0",
        "colab": {
          "base_uri": "https://localhost:8080/"
        },
        "outputId": "0bc01c34-0bda-4cc1-a5d4-46ccfd8b8900"
      },
      "source": [
        "w = [1,2,2]; z = [1,2,3]\n",
        "w == z, np.array(w) == np.array(z), np.array_equal(w,z) \n",
        "#in Julia you can differentiate the two methods of relational \n",
        "#checking with == and .== "
      ],
      "execution_count": null,
      "outputs": [
        {
          "output_type": "execute_result",
          "data": {
            "text/plain": [
              "(False, array([ True,  True, False]), False)"
            ]
          },
          "metadata": {
            "tags": []
          },
          "execution_count": 17
        }
      ]
    },
    {
      "cell_type": "code",
      "metadata": {
        "id": "LrKXEznVAZp1",
        "colab": {
          "base_uri": "https://localhost:8080/"
        },
        "outputId": "70f9c86e-527d-4604-faa9-15d30b1d3953"
      },
      "source": [
        "x = np.array([1.1, .5, -1.5, -.3])\n",
        "[i for i in x if abs(i) > 1] #in Julia: x[abs.(x) .> 1], you ask x for a slice using an elementwise absolute check (abs.(x)) and element wise comparator (.>)\n"
      ],
      "execution_count": null,
      "outputs": [
        {
          "output_type": "execute_result",
          "data": {
            "text/plain": [
              "[1.1, -1.5]"
            ]
          },
          "metadata": {
            "tags": []
          },
          "execution_count": 18
        }
      ]
    },
    {
      "cell_type": "code",
      "metadata": {
        "id": "k916yolcAZp1",
        "colab": {
          "base_uri": "https://localhost:8080/"
        },
        "outputId": "dbfacfcb-f242-4200-c21f-6d26187b68ea"
      },
      "source": [
        "x = np.random.randn(4) #in Julia: x = rand(4)\n",
        "x"
      ],
      "execution_count": null,
      "outputs": [
        {
          "output_type": "execute_result",
          "data": {
            "text/plain": [
              "array([-0.14051522,  1.97476408, -0.21400729, -1.3743196 ])"
            ]
          },
          "metadata": {
            "tags": []
          },
          "execution_count": 23
        }
      ]
    },
    {
      "cell_type": "code",
      "metadata": {
        "id": "I17UyYlbAZp2",
        "colab": {
          "base_uri": "https://localhost:8080/"
        },
        "outputId": "00846a26-58f4-4258-adfa-af6f4d0d62d9"
      },
      "source": [
        "x[0:2] = [-1,1]\n",
        "x"
      ],
      "execution_count": null,
      "outputs": [
        {
          "output_type": "execute_result",
          "data": {
            "text/plain": [
              "array([-1.        ,  1.        , -0.21400729, -1.3743196 ])"
            ]
          },
          "metadata": {
            "tags": []
          },
          "execution_count": 24
        }
      ]
    },
    {
      "cell_type": "code",
      "metadata": {
        "id": "sDRXteGOAZp2",
        "colab": {
          "base_uri": "https://localhost:8080/"
        },
        "outputId": "302e9dc6-93d9-4bcf-9bfc-189eb6be199e"
      },
      "source": [
        "x[1:3] = 1.3\n",
        "x"
      ],
      "execution_count": null,
      "outputs": [
        {
          "output_type": "execute_result",
          "data": {
            "text/plain": [
              "array([-1.       ,  1.3      ,  1.3      , -1.3743196])"
            ]
          },
          "metadata": {
            "tags": []
          },
          "execution_count": 25
        }
      ]
    },
    {
      "cell_type": "markdown",
      "metadata": {
        "id": "hFm6u2t5AZp2"
      },
      "source": [
        "#### Linear Combination"
      ]
    },
    {
      "cell_type": "code",
      "metadata": {
        "id": "pvAP1cs_AZp2",
        "colab": {
          "base_uri": "https://localhost:8080/"
        },
        "outputId": "c402db13-8916-4e69-9808-58675dd0feb4"
      },
      "source": [
        "a,b = np.array([1, 2]), np.array([3, 4])\n",
        "alpha,beta = -.5, 1.5\n",
        "a, b, alpha, beta"
      ],
      "execution_count": null,
      "outputs": [
        {
          "output_type": "execute_result",
          "data": {
            "text/plain": [
              "(array([1, 2]), array([3, 4]), -0.5, 1.5)"
            ]
          },
          "metadata": {
            "tags": []
          },
          "execution_count": 26
        }
      ]
    },
    {
      "cell_type": "code",
      "metadata": {
        "id": "rShXCRfMAZp3",
        "colab": {
          "base_uri": "https://localhost:8080/"
        },
        "outputId": "8d03550e-5d87-4f76-8e50-747c3ca29639"
      },
      "source": [
        "c = alpha*a + beta*b\n",
        "c #all same as Julia, just take out np array casting"
      ],
      "execution_count": null,
      "outputs": [
        {
          "output_type": "execute_result",
          "data": {
            "text/plain": [
              "array([4., 5.])"
            ]
          },
          "metadata": {
            "tags": []
          },
          "execution_count": 27
        }
      ]
    },
    {
      "cell_type": "code",
      "metadata": {
        "id": "7sUCzRWhAZp3",
        "colab": {
          "base_uri": "https://localhost:8080/"
        },
        "outputId": "972ab635-9311-457d-bacd-301de0d23d57"
      },
      "source": [
        "coef = ([-.5, 1.5])\n",
        "vecs = [np.array([1, 2]), np.array([3, 4])]\n",
        "\n",
        "def lincomb(coeff, vectors):\n",
        "    n = len(vectors[0])\n",
        "    a = np.zeros(n)\n",
        "    for i in range(len(vectors)):\n",
        "        a += coeff[i] * vectors[i]\n",
        "    return a\n",
        "\n",
        "#or, you can use a List Comprehension:\n",
        "\n",
        "def lincomb_LC(coeff,vectors):\n",
        "    return [coef[i] * vecs[i] + coef[i+1] * vecs[i+1] \n",
        "            for i in range(len(coef)-1)]\n",
        "    #or: sum([coef[i] * vecs[i] for i in range(len(vecs))])\n",
        "\n",
        "lincomb(coef, vecs), lincomb_LC(coef,vecs)"
      ],
      "execution_count": null,
      "outputs": [
        {
          "output_type": "execute_result",
          "data": {
            "text/plain": [
              "(array([4., 5.]), [array([4., 5.])])"
            ]
          },
          "metadata": {
            "tags": []
          },
          "execution_count": 39
        }
      ]
    },
    {
      "cell_type": "code",
      "metadata": {
        "id": "3RAebEPGAZp3",
        "colab": {
          "base_uri": "https://localhost:8080/"
        },
        "outputId": "be72f3f1-3597-43b8-b533-52847246ade3"
      },
      "source": [
        "a, b, beta = np.random.rand(3), np.random.rand(3), np.random.rand()\n",
        "a, b, beta"
      ],
      "execution_count": null,
      "outputs": [
        {
          "output_type": "execute_result",
          "data": {
            "text/plain": [
              "(array([0.21173244, 0.19337185, 0.23078043]),\n",
              " array([0.83509295, 0.45229445, 0.98207947]),\n",
              " 0.32090512942768723)"
            ]
          },
          "metadata": {
            "tags": []
          },
          "execution_count": 42
        }
      ]
    },
    {
      "cell_type": "markdown",
      "metadata": {
        "id": "OIJsbAQVAZp4"
      },
      "source": [
        "#### Checking properties"
      ]
    },
    {
      "cell_type": "code",
      "metadata": {
        "id": "BAKKA7XlAZp4",
        "colab": {
          "base_uri": "https://localhost:8080/"
        },
        "outputId": "dd7b53aa-38f4-4517-d041-7964c34685e7"
      },
      "source": [
        "lhs = beta*(a+b)\n",
        "rhs = beta*a + beta*b\n",
        "lhs, rhs #same as Julia for checking distributive property"
      ],
      "execution_count": null,
      "outputs": [
        {
          "output_type": "execute_result",
          "data": {
            "text/plain": [
              "(array([0.33593164, 0.20719763, 0.38921296]),\n",
              " array([0.33593164, 0.20719763, 0.38921296]))"
            ]
          },
          "metadata": {
            "tags": []
          },
          "execution_count": 45
        }
      ]
    },
    {
      "cell_type": "markdown",
      "metadata": {
        "id": "mcCqUI6KAZp4"
      },
      "source": [
        "# 1.4 Inner Product"
      ]
    },
    {
      "cell_type": "code",
      "metadata": {
        "id": "sNbx3BcEAZp4",
        "colab": {
          "base_uri": "https://localhost:8080/"
        },
        "outputId": "611fa66a-6a93-48e4-e83d-edbe65ed0fd1"
      },
      "source": [
        "x = np.array([-1,2,2])\n",
        "y = np.array([1,0,-3])\n",
        "np.inner(x,y) #Julia equiv: x'*y"
      ],
      "execution_count": 4,
      "outputs": [
        {
          "output_type": "execute_result",
          "data": {
            "text/plain": [
              "-7"
            ]
          },
          "metadata": {
            "tags": []
          },
          "execution_count": 4
        }
      ]
    },
    {
      "cell_type": "markdown",
      "metadata": {
        "id": "8wOwxyl1AZp5"
      },
      "source": [
        "#### NPV"
      ]
    },
    {
      "cell_type": "code",
      "metadata": {
        "id": "kGFH4yNdAZp5",
        "colab": {
          "base_uri": "https://localhost:8080/"
        },
        "outputId": "2e08b719-bbe0-480a-a14e-453c1dfcc27c"
      },
      "source": [
        "c = np.array([.1,.1,.1,1.1])\n",
        "n = len(c)\n",
        "r = .05\n",
        "d = np.array([(1+r)**-(i) for i in range(0,n)]) #J equiv: (1+r) .^ -(0:n-1)\n",
        "d, sum(c*d) #NPV"
      ],
      "execution_count": 5,
      "outputs": [
        {
          "output_type": "execute_result",
          "data": {
            "text/plain": [
              "(array([1.        , 0.95238095, 0.90702948, 0.8638376 ]), 1.236162401468524)"
            ]
          },
          "metadata": {
            "tags": []
          },
          "execution_count": 5
        }
      ]
    },
    {
      "cell_type": "markdown",
      "metadata": {
        "id": "k1fcOB6YAZp5"
      },
      "source": [
        "#### Total School-Age Population"
      ]
    },
    {
      "cell_type": "code",
      "metadata": {
        "id": "rsIbWEkLAZp5",
        "colab": {
          "base_uri": "https://localhost:8080/"
        },
        "outputId": "d0a78fb4-bb2b-4033-927e-8ffd9e156a2e"
      },
      "source": [
        "#Ambiguous solution to attempt at \"Total school-age population\", \n",
        "#unable to decipher description of data given\n",
        "import collections\n",
        "from collections import Counter\n",
        "\n",
        "s = np.concatenate((np.zeros(5),np.ones(14),np.zeros(81)))\n",
        "ages = [np.random.randint(5,19) for i in range(100)]\n",
        "# data = dict(collections.OrderedDict(sorted(data.items())))\n",
        "# counts = np.array([v for k,v in data.items()])\n",
        "# dists = np.array([v/100 for k,v in data.items()])\n",
        "sum(s*ages) "
      ],
      "execution_count": 11,
      "outputs": [
        {
          "output_type": "execute_result",
          "data": {
            "text/plain": [
              "143.0"
            ]
          },
          "metadata": {
            "tags": []
          },
          "execution_count": 11
        }
      ]
    },
    {
      "cell_type": "markdown",
      "metadata": {
        "id": "HVDGs5h4AZp6"
      },
      "source": [
        "# 1.5 Complexity of Vector Computations"
      ]
    },
    {
      "cell_type": "code",
      "metadata": {
        "id": "9kS_diWlAZp6",
        "colab": {
          "base_uri": "https://localhost:8080/"
        },
        "outputId": "001cafea-f179-4278-dcdc-ffd29d3a2890"
      },
      "source": [
        "a,b = np.random.randn(),np.random.randn()\n",
        "lhs = (a+b)*(a-b)\n",
        "rhs = a**2 - b**2\n",
        "lhs,rhs"
      ],
      "execution_count": 19,
      "outputs": [
        {
          "output_type": "execute_result",
          "data": {
            "text/plain": [
              "(3.5551564373752864, 3.555156437375287)"
            ]
          },
          "metadata": {
            "tags": []
          },
          "execution_count": 19
        }
      ]
    },
    {
      "cell_type": "code",
      "metadata": {
        "id": "Jt4CmHMzAZp7",
        "colab": {
          "base_uri": "https://localhost:8080/"
        },
        "outputId": "d4f2cbac-9d12-4714-fb5e-0e77307e7621"
      },
      "source": [
        "import timeit\n",
        "a,b = np.random.randn(10**5), np.random.randn(10**5)\n",
        "%timeit sum(a*b) #@time in J"
      ],
      "execution_count": 23,
      "outputs": [
        {
          "output_type": "stream",
          "text": [
            "100 loops, best of 5: 16 ms per loop\n"
          ],
          "name": "stdout"
        }
      ]
    },
    {
      "cell_type": "code",
      "metadata": {
        "id": "vRRrkTbxAZp8",
        "colab": {
          "base_uri": "https://localhost:8080/"
        },
        "outputId": "bffde4bb-d854-465a-a717-37decffd01b2"
      },
      "source": [
        "%timeit sum(a*b)"
      ],
      "execution_count": 24,
      "outputs": [
        {
          "output_type": "stream",
          "text": [
            "100 loops, best of 5: 15.8 ms per loop\n"
          ],
          "name": "stdout"
        }
      ]
    },
    {
      "cell_type": "code",
      "metadata": {
        "id": "CW39XHePAZp8",
        "colab": {
          "base_uri": "https://localhost:8080/"
        },
        "outputId": "6a34d825-7c95-4911-bf6e-fac01443e038"
      },
      "source": [
        "sparsevec = np.zeros(10**6)\n",
        "sparsevec[123456], sparsevec[123457] = [1.0, -1.0] \n",
        "#this is a one line operation in J using the SparseVec package: \n",
        "#sparsevec([list of indices to set], [values for those indices], vec size)\n",
        "np.nonzero(sparsevec),len(np.nonzero(sparsevec))"
      ],
      "execution_count": 37,
      "outputs": [
        {
          "output_type": "execute_result",
          "data": {
            "text/plain": [
              "((array([123456, 123457]),), 1)"
            ]
          },
          "metadata": {
            "tags": []
          },
          "execution_count": 37
        }
      ]
    },
    {
      "cell_type": "code",
      "metadata": {
        "id": "tZCifj8qAZp8",
        "colab": {
          "base_uri": "https://localhost:8080/"
        },
        "outputId": "68c52a28-e814-440b-ccd1-3cb772aed6d4"
      },
      "source": [
        "b = np.random.randn(10**6)\n",
        "%timeit c = sparsevec + b "
      ],
      "execution_count": 38,
      "outputs": [
        {
          "output_type": "stream",
          "text": [
            "100 loops, best of 5: 2.3 ms per loop\n"
          ],
          "name": "stdout"
        }
      ]
    }
  ]
}