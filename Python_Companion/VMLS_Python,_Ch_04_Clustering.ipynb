{
  "nbformat": 4,
  "nbformat_minor": 0,
  "metadata": {
    "kernelspec": {
      "display_name": "Python 3",
      "language": "python",
      "name": "python3"
    },
    "language_info": {
      "codemirror_mode": {
        "name": "ipython",
        "version": 3
      },
      "file_extension": ".py",
      "mimetype": "text/x-python",
      "name": "python",
      "nbconvert_exporter": "python",
      "pygments_lexer": "ipython3",
      "version": "3.7.4"
    },
    "colab": {
      "name": "VMLS Python, Ch.04 Clustering.ipynb",
      "provenance": [],
      "collapsed_sections": [],
      "include_colab_link": true
    }
  },
  "cells": [
    {
      "cell_type": "markdown",
      "metadata": {
        "id": "view-in-github",
        "colab_type": "text"
      },
      "source": [
        "<a href=\"https://colab.research.google.com/github/omartinez182/VMLS/blob/main/Python_Companion/VMLS_Python%2C_Ch_04_Clustering.ipynb\" target=\"_parent\"><img src=\"https://colab.research.google.com/assets/colab-badge.svg\" alt=\"Open In Colab\"/></a>"
      ]
    },
    {
      "cell_type": "code",
      "metadata": {
        "id": "L_dfHEaXdxOi"
      },
      "source": [
        "import numpy as np\n",
        "import numpy.linalg as npl\n",
        "import matplotlib.pyplot as plt"
      ],
      "execution_count": 1,
      "outputs": []
    },
    {
      "cell_type": "markdown",
      "metadata": {
        "id": "m02tD8fpdxO0"
      },
      "source": [
        "# 4.1,2 Clustering & A Clustering Objective"
      ]
    },
    {
      "cell_type": "markdown",
      "metadata": {
        "id": "lEbhuQh1dxO1"
      },
      "source": [
        "1. \"The goal of clustering is to group or partition vectors into k groups or clusters, with the vectors in each group close to each other\"\n",
        "2. Objective: A single value used to judge \"choice of clustering\": choose k"
      ]
    },
    {
      "cell_type": "code",
      "metadata": {
        "id": "Uv_rC70HdxO2",
        "colab": {
          "base_uri": "https://localhost:8080/"
        },
        "outputId": "544743cc-c8da-42e8-d178-e8b9043da0a5"
      },
      "source": [
        "#given a tuple of vectors, and representatives for groups of vectors,\n",
        "#what is the average distance each vector has from a representative\n",
        "\n",
        "x = np.array([[0,1],[1,0],[-1,1]])\n",
        "reps = np.array([[1,1],[0,0]])\n",
        "\n",
        "jclust = lambda x, reps, assignment: np.average([npl.norm(x[i] - reps[assignment[i]])**2 for i in range(len(x))])\n",
        "jclust(x,reps,[0,1,0]), jclust(x,reps,[0,0,1]) #assignments are 0 indexed\n",
        "\n",
        "#How can we select the center-most (most minimal distance between vectors) representative?"
      ],
      "execution_count": 20,
      "outputs": [
        {
          "output_type": "execute_result",
          "data": {
            "text/plain": [
              "(2.0, 1.3333333333333333)"
            ]
          },
          "metadata": {
            "tags": []
          },
          "execution_count": 20
        }
      ]
    },
    {
      "cell_type": "code",
      "metadata": {
        "colab": {
          "base_uri": "https://localhost:8080/"
        },
        "id": "PoTkHd1kvaZ4",
        "outputId": "9a5fbd02-2384-4faa-b306-55bc27dea83a"
      },
      "source": [
        "test_list = [1,2,3]\n",
        "test_list.index(3)"
      ],
      "execution_count": 30,
      "outputs": [
        {
          "output_type": "execute_result",
          "data": {
            "text/plain": [
              "2"
            ]
          },
          "metadata": {
            "tags": []
          },
          "execution_count": 30
        }
      ]
    },
    {
      "cell_type": "markdown",
      "metadata": {
        "id": "Vw-kGrxMdxO5"
      },
      "source": [
        "# 4.3 k-Means Algorithm"
      ]
    },
    {
      "cell_type": "markdown",
      "metadata": {
        "id": "jWHVPLABdxO5"
      },
      "source": [
        "\"Iterating between choosing group representatives and choosing group assignments\""
      ]
    },
    {
      "cell_type": "markdown",
      "metadata": {
        "id": "_RiV3vn-dxO6"
      },
      "source": [
        "#### Pseudocode:\n",
        "1. Initialize a group of representatives either by: 1) randomly selecting from set of vectors, or 2) randomly group vectors and create mean vectors to be used as representatives.\n",
        "2. Partition vectors in k amount of groups. Assign a group for every vector associated with the nearest representative.\n",
        "    If there are any ties for vector assignments, choose the group with the smallest j value of the ties.\n",
        "    If there is an empty group, remove from list of k groups.\n",
        "    If there are two iterations without changes in vector assignments, stop algorithm.\n",
        "3. Update representatives. For every group from 1-k set the corresponding representative to be the mean of the vectors in that group.\n",
        "    If Jclust gets small, stop algorithm."
      ]
    },
    {
      "cell_type": "code",
      "metadata": {
        "id": "758Pp_didxO9"
      },
      "source": [
        "def kmeans(x,k,maxiters = 100, tolerance = 1e-4):\n",
        "    \n",
        "    N = len(x) #amount of vectors\n",
        "    n = len(x[0]) #dimension of each vector\n",
        "    distances = np.zeros(N) #stores distances of each pt to nearest rep\n",
        "    progress = [] #used to visualize J updates\n",
        "    jPrev = np.Infinity #placeholder for ending condition: \n",
        "                        #if previous J and current J haven't changed much,finish\n",
        "    \n",
        "    reps = [np.zeros(n) for j in range(k)] #stores representatives\n",
        "    assignment = [np.random.randint(k) for i in range(N)] #intializes a random assignment of N integers between 0 and k\n",
        "    \n",
        "    for itr in range(maxiters):\n",
        "        # Calculate the representatives for each group\n",
        "        for j in range(k):\n",
        "            group = [i for i in range(N) if assignment[i] == j]\n",
        "            reps[j] = sum(x[group]/len(group))\n",
        "        for i in range(N):\n",
        "            # Calculate the distance between each vector (x_i) and all of the representatives (j) and select the min value\n",
        "            distances[i] = np.amin([npl.norm(x[i] - reps[j]) for j in range(k)])\n",
        "            # Based on the index of the min mean squared distance of each vector (x_i) for all representatives (j) assign a cluster to each vector (x_i)\n",
        "            assignment[i] = [npl.norm(x[i] - reps[j]) for j in range(k)].index(np.amin([npl.norm(x[i] - reps[j]) for j in range(k)]))\n",
        "        J = (npl.norm(distances)**2) / N\n",
        "        progress.append([J,itr])\n",
        "        print(\"Iteration \" + str(itr) + \": Jclust = \" + str(J)+\".\")\n",
        "        if (itr > 1) and (abs(J-jPrev) < (tolerance * J)):\n",
        "            return assignment, reps, progress\n",
        "        \n",
        "        jPrev = J  \n",
        "    return assignment, reps, progress"
      ],
      "execution_count": 32,
      "outputs": []
    },
    {
      "cell_type": "code",
      "metadata": {
        "id": "nDSnLm3RdxPB"
      },
      "source": [
        "# Generate a \"random\" data\n",
        "X = np.concatenate(\n",
        "    [[.3*np.random.randn(2) for i in range(100)],\n",
        "     [np.array([1,1]) + .3*np.random.randn(2) for i in range(100)],\n",
        "     [np.array([1,-1]) + .3*np.random.randn(2) for i in range(100)]]\n",
        ")"
      ],
      "execution_count": 42,
      "outputs": []
    },
    {
      "cell_type": "code",
      "metadata": {
        "id": "HP5HRKvCdxPD",
        "colab": {
          "base_uri": "https://localhost:8080/",
          "height": 286
        },
        "outputId": "3e66ec15-8567-4da3-faee-cef04bbf3fbb"
      },
      "source": [
        "# Visualize the data\n",
        "plt.scatter([x[0] for x in X],[x[1] for x in X])\n",
        "plt.xlim([-1.5,2.5]),plt.ylim([-2,2])"
      ],
      "execution_count": 45,
      "outputs": [
        {
          "output_type": "execute_result",
          "data": {
            "text/plain": [
              "((-1.5, 2.5), (-2.0, 2.0))"
            ]
          },
          "metadata": {
            "tags": []
          },
          "execution_count": 45
        },
        {
          "output_type": "display_data",
          "data": {
            "image/png": "[encoded data removed]",
            "text/plain": [
              "<Figure size 432x288 with 1 Axes>"
            ]
          },
          "metadata": {
            "tags": [],
            "needs_background": "light"
          }
        }
      ]
    },
    {
      "cell_type": "markdown",
      "metadata": {
        "id": "voGXJLvNx8HT"
      },
      "source": [
        "#### Testing the K-means Algorithm"
      ]
    },
    {
      "cell_type": "code",
      "metadata": {
        "scrolled": false,
        "id": "awlpierKdxPE",
        "colab": {
          "base_uri": "https://localhost:8080/"
        },
        "outputId": "a113e237-be47-47bc-cfb1-c706f39455db"
      },
      "source": [
        "k=2\n",
        "assignment, reps, progress = kmeans(X,k)"
      ],
      "execution_count": 47,
      "outputs": [
        {
          "output_type": "stream",
          "text": [
            "Iteration 0: Jclust = 0.9791952927820053.\n",
            "Iteration 1: Jclust = 0.5360231912965364.\n",
            "Iteration 2: Jclust = 0.5360065157746859.\n"
          ],
          "name": "stdout"
        }
      ]
    },
    {
      "cell_type": "code",
      "metadata": {
        "id": "NIQwcLCydxPF",
        "colab": {
          "base_uri": "https://localhost:8080/",
          "height": 286
        },
        "outputId": "7ff5de93-d3c2-447a-a236-435f9cc19993"
      },
      "source": [
        "groups = [[X[i] for i in range(len(X)) if assignment[i] == j] for j in range(k)]\n",
        "plt.scatter([c[0] for c in groups[0]],[c[1] for c in groups[0]])\n",
        "plt.scatter([c[0] for c in groups[1]],[c[1] for c in groups[1]])\n",
        "plt.xlim([-1.5,2.5]),plt.ylim([-2,2])"
      ],
      "execution_count": 48,
      "outputs": [
        {
          "output_type": "execute_result",
          "data": {
            "text/plain": [
              "((-1.5, 2.5), (-2.0, 2.0))"
            ]
          },
          "metadata": {
            "tags": []
          },
          "execution_count": 48
        },
        {
          "output_type": "display_data",
          "data": {
            "image/png": "[encoded data removed]",
            "text/plain": [
              "<Figure size 432x288 with 1 Axes>"
            ]
          },
          "metadata": {
            "tags": [],
            "needs_background": "light"
          }
        }
      ]
    },
    {
      "cell_type": "code",
      "metadata": {
        "scrolled": false,
        "id": "WmUS3qL5dxPG",
        "colab": {
          "base_uri": "https://localhost:8080/",
          "height": 371
        },
        "outputId": "b87bb7a3-6558-4f83-f254-30a88cda33a8"
      },
      "source": [
        "k=3\n",
        "assignment, reps, progress = kmeans(X,k)\n",
        "groups = [[X[i] for i in range(len(X)) if assignment[i] == j] for j in range(k)]\n",
        "plt.scatter([c[0] for c in groups[0]],[c[1] for c in groups[0]])\n",
        "plt.scatter([c[0] for c in groups[1]],[c[1] for c in groups[1]])\n",
        "plt.scatter([c[0] for c in groups[2]],[c[1] for c in groups[2]])\n",
        "plt.xlim([-1.5,2.5]),plt.ylim([-2,2])"
      ],
      "execution_count": 49,
      "outputs": [
        {
          "output_type": "stream",
          "text": [
            "Iteration 0: Jclust = 0.9777014275910174.\n",
            "Iteration 1: Jclust = 0.1837016922276196.\n",
            "Iteration 2: Jclust = 0.17516509135849714.\n",
            "Iteration 3: Jclust = 0.17485694396829637.\n",
            "Iteration 4: Jclust = 0.17485694396829637.\n"
          ],
          "name": "stdout"
        },
        {
          "output_type": "execute_result",
          "data": {
            "text/plain": [
              "((-1.5, 2.5), (-2.0, 2.0))"
            ]
          },
          "metadata": {
            "tags": []
          },
          "execution_count": 49
        },
        {
          "output_type": "display_data",
          "data": {
            "image/png": "[encoded data removed]",
            "text/plain": [
              "<Figure size 432x288 with 1 Axes>"
            ]
          },
          "metadata": {
            "tags": [],
            "needs_background": "light"
          }
        }
      ]
    },
    {
      "cell_type": "code",
      "metadata": {
        "id": "_L9RsKa_dxPG",
        "colab": {
          "base_uri": "https://localhost:8080/",
          "height": 507
        },
        "outputId": "5bcc8e4a-f4c7-4b4f-c352-cd418fa57d56"
      },
      "source": [
        "k=4\n",
        "assignment, reps, progress = kmeans(X,k)\n",
        "groups = [[X[i] for i in range(len(X)) if assignment[i] == j] for j in range(k)]\n",
        "plt.scatter([c[0] for c in groups[0]],[c[1] for c in groups[0]])\n",
        "plt.scatter([c[0] for c in groups[1]],[c[1] for c in groups[1]])\n",
        "plt.scatter([c[0] for c in groups[2]],[c[1] for c in groups[2]])\n",
        "plt.scatter([c[0] for c in groups[3]],[c[1] for c in groups[3]])\n",
        "plt.xlim([-1.5,2.5]),plt.ylim([-2,2])\n",
        "# plt.show()\n",
        "# plt.scatter([i[1] for i in progress],[i[0] for i in progress])\n",
        "# plt.show()"
      ],
      "execution_count": 50,
      "outputs": [
        {
          "output_type": "stream",
          "text": [
            "Iteration 0: Jclust = 0.8568892375705291.\n",
            "Iteration 1: Jclust = 0.17792972502666035.\n",
            "Iteration 2: Jclust = 0.15404796502891982.\n",
            "Iteration 3: Jclust = 0.15235299896328341.\n",
            "Iteration 4: Jclust = 0.15115834369345119.\n",
            "Iteration 5: Jclust = 0.15050089594176536.\n",
            "Iteration 6: Jclust = 0.14966696938301025.\n",
            "Iteration 7: Jclust = 0.14955728502638532.\n",
            "Iteration 8: Jclust = 0.14953641399238565.\n",
            "Iteration 9: Jclust = 0.14943748001529386.\n",
            "Iteration 10: Jclust = 0.1492926211515291.\n",
            "Iteration 11: Jclust = 0.1491249750921921.\n",
            "Iteration 12: Jclust = 0.1491249750921921.\n"
          ],
          "name": "stdout"
        },
        {
          "output_type": "execute_result",
          "data": {
            "text/plain": [
              "((-1.5, 2.5), (-2.0, 2.0))"
            ]
          },
          "metadata": {
            "tags": []
          },
          "execution_count": 50
        },
        {
          "output_type": "display_data",
          "data": {
            "image/png": "[encoded data removed]",
            "text/plain": [
              "<Figure size 432x288 with 1 Axes>"
            ]
          },
          "metadata": {
            "tags": [],
            "needs_background": "light"
          }
        }
      ]
    },
    {
      "cell_type": "markdown",
      "metadata": {
        "id": "6F07EC9fdxPI"
      },
      "source": [
        "# 4.4 Examples"
      ]
    },
    {
      "cell_type": "code",
      "metadata": {
        "id": "UP-VqTw2dxPN"
      },
      "source": [
        ""
      ],
      "execution_count": null,
      "outputs": []
    },
    {
      "cell_type": "markdown",
      "metadata": {
        "id": "y_DgemMZdxPO"
      },
      "source": [
        "# 4.5 Applications"
      ]
    },
    {
      "cell_type": "code",
      "metadata": {
        "id": "dp9Wfdf5dxPP"
      },
      "source": [
        ""
      ],
      "execution_count": null,
      "outputs": []
    }
  ]
}